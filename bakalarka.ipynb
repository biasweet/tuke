{
 "cells": [
  {
   "cell_type": "code",
   "execution_count": 314,
   "metadata": {},
   "outputs": [],
   "source": [
    "import requests\n",
    "import json\n",
    "import pandas as pd\n",
    "import time\n",
    "import numpy as np\n",
    "import matplotlib.pyplot as plt\n",
    "import seaborn as sns\n",
    "\n"
   ]
  },
  {
   "cell_type": "markdown",
   "metadata": {},
   "source": [
    "ziskanie dát z api"
   ]
  },
  {
   "cell_type": "code",
   "execution_count": 315,
   "metadata": {},
   "outputs": [],
   "source": [
    "def unix_to_datetime(unix_timestamp):\n",
    "    import datetime\n",
    "\n",
    "    # konverzia unix timestamp na sekundy\n",
    "    timestamp_sec = unix_timestamp / 1000\n",
    "    dt_object = datetime.datetime.fromtimestamp(timestamp_sec)\n",
    "\n",
    "    # konverzia objektu datetime na string\n",
    "    formatted_date = dt_object.strftime('%Y-%m-%d %H:%M:%S')\n",
    "\n",
    "    # konverzia stringu na datetime\n",
    "    formatted_date = pd.to_datetime(formatted_date)\n",
    "\n",
    "    return formatted_date\n"
   ]
  },
  {
   "cell_type": "code",
   "execution_count": 316,
   "metadata": {},
   "outputs": [],
   "source": [
    "# funkcia na normalizovanie ziskanych dat z API\n",
    "\n",
    "def normalize_data(data):\n",
    "\n",
    "    df_3_attributes = pd.json_normalize(data)\n",
    "\n",
    "    df_of_data=pd.json_normalize(data['data'])  # vnorene data\n",
    "\n",
    "    wax_to_usd_rate = 0.0643    # približny kurz WAX na USD\n",
    "\n",
    "    for i in range(0, len(df_of_data)):\n",
    "        get_wax = 10 ** df_of_data['price.token_precision'][i]\n",
    "        df_of_data.loc[i, 'updated_at_time'] = unix_to_datetime(int(df_of_data['updated_at_time'][i]))\n",
    "        df_of_data.loc[i, 'created_at_time'] = unix_to_datetime(int(df_of_data['created_at_time'][i]))\n",
    "        df_of_data.loc[i, 'price_wax'] = round(float(df_of_data['price.amount'][i])/ get_wax, 5)\n",
    "        df_of_data.loc[i, 'price_usd'] = round((float(df_of_data['price.amount'][i]) / get_wax) * wax_to_usd_rate, 5)\n",
    "\n",
    "    for index, row in df_of_data.iterrows():\n",
    "        for asset in row['assets']:\n",
    "            asset[\"sale_id\"] = row['sale_id']     \n",
    "            for price in asset['prices']:\n",
    "                price[\"sale_id\"] = row['sale_id']\n",
    "\n",
    "    # normalizacia vnorenych dat\n",
    "    df_of_nested_assets = pd.json_normalize(data['data'], record_path=['assets'])\n",
    "\n",
    "    # spracovanie stlpcov s časom\n",
    "    datetime_columns = df_of_nested_assets.columns[df_of_nested_assets.columns.str.contains('time')].tolist()\n",
    "    for i in range(0, len(df_of_nested_assets)):\n",
    "        for column in datetime_columns:\n",
    "            if df_of_nested_assets[column][i] is not None:\n",
    "                df_of_nested_assets.loc[i, column] = unix_to_datetime(int(df_of_nested_assets[column][i]))\n",
    "            else:\n",
    "                df_of_nested_assets.loc[i, column] = pd.NaT\n",
    "\n",
    "    # normalizacia vnorenych dat\n",
    "    normalized_dataframes = []\n",
    "    for index, row in df_of_nested_assets.iterrows():\n",
    "        normalized_data = pd.json_normalize(row['prices'])\n",
    "        normalized_dataframes.append(normalized_data)\n",
    "    df_of_nested_prices_2 = pd.concat(normalized_dataframes, ignore_index=True)\n",
    "\n",
    "    # odstranenie nepotrebnych stlpcov\n",
    "    df_of_data.drop(columns=['assets'], inplace=True)\n",
    "    df_of_nested_assets.drop(columns=['prices'], inplace=True)\n",
    "\n",
    "    return df_3_attributes, df_of_data, df_of_nested_assets, df_of_nested_prices_2\n"
   ]
  },
  {
   "cell_type": "code",
   "execution_count": 317,
   "metadata": {},
   "outputs": [
    {
     "name": "stdout",
     "output_type": "stream",
     "text": [
      "Page 1 loaded\n",
      "Length of dataframes:  1 100 190 190\n",
      "Page 2 loaded\n",
      "Length of dataframes:  2 200 437 437\n",
      "Page 3 loaded\n",
      "Length of dataframes:  3 300 586 586\n",
      "Page 4 loaded\n",
      "Length of dataframes:  4 400 686 686\n",
      "Page 5 loaded\n",
      "Length of dataframes:  5 500 1581 1581\n"
     ]
    }
   ],
   "source": [
    "# definicia URL a parametrov pre api GET request\n",
    "url = \"https://wax.api.atomicassets.io/atomicmarket/v2/sales\"\n",
    "\n",
    "# vytvorenie datovych ramcov pre ukladanie dat\n",
    "df_3_attributes_all=pd.DataFrame()\n",
    "df_of_data_all=pd.DataFrame()\n",
    "df_of_nested_assets_all=pd.DataFrame()\n",
    "df_of_nested_prices_all=pd.DataFrame()\n",
    "df_of_nested_prices_2_all=pd.DataFrame()\n",
    "\n",
    "# použite cyklu na získanie 5 stránok údajov\n",
    "for i in range(1, 6):\n",
    "    params = {\n",
    "        \"state\": \"3\", #3-sold\n",
    "        \"collection_name\": \"farmersworld\",\n",
    "        \"template_id\": \"298593\",\n",
    "        \"page\": i,\n",
    "        #\"before\": \"\",  epoch timestamp\n",
    "        #\"after\": \"\",\n",
    "        \"limit\": \"100\",\n",
    "        \"order\": \"desc\",\n",
    "        \"sort\": \"updated\",\n",
    "    }\n",
    "    headers = {\n",
    "        \"accept\": \"application/json\",\n",
    "    }\n",
    "\n",
    "    # GET request\n",
    "    response = requests.get(url, params=params, headers=headers)\n",
    "\n",
    "    # Request\n",
    "    if response.status_code == 200:\n",
    "        \n",
    "        data = response.json()\n",
    "\n",
    "        # ulož json dáta do súboru\n",
    "        with open(f'data_{i}.json', 'w') as f:\n",
    "            json.dump(data, f, indent=2)\n",
    "\n",
    "        # funkcia na načítanie json dát a uloženie ich všetkých do premenných\n",
    "        df_1, df_2, df_3, df_4 = normalize_data(data)\n",
    "\n",
    "        # spoj všetky datove ramce\n",
    "        if i == 1:\n",
    "            df_3_attributes_all = df_1\n",
    "            df_of_data_all = df_2\n",
    "            df_of_nested_assets_all = df_3\n",
    "            df_of_nested_prices_all = df_4\n",
    "        else:\n",
    "            df_3_attributes_all = pd.concat([df_3_attributes_all, df_1], ignore_index=True)\n",
    "            df_of_data_all = pd.concat([df_of_data_all, df_2], ignore_index=True)\n",
    "            df_of_nested_assets_all = pd.concat([df_of_nested_assets_all, df_3], ignore_index=True)\n",
    "            df_of_nested_prices_all = pd.concat([df_of_nested_prices_all, df_4], ignore_index=True)\n",
    "\n",
    "        print(\"Page\", i, \"loaded\")\n",
    "        print(\"Length of dataframes: \", len(df_3_attributes_all), len(df_of_data_all), len(df_of_nested_assets_all), len(df_of_nested_prices_all))\n",
    "\n",
    "        # čakanie 1.1 sekundy medzi GET requestami\n",
    "        time.sleep(1.1)\n",
    "\n",
    "\n",
    "    else:\n",
    "        print(\"Error:\", response.status_code)"
   ]
  },
  {
   "cell_type": "code",
   "execution_count": 318,
   "metadata": {},
   "outputs": [],
   "source": [
    "# unikatne ID pre tabulku assets a prices\n",
    "df_of_nested_assets_all['unique_id'] = range(1, len(df_of_nested_assets_all) + 1)\n",
    "df_of_nested_prices_all['unique_id'] = range(1, len(df_of_nested_prices_all) + 1)\n",
    "\n",
    "\n",
    "# uloženie všetkých dát do csv súborov\n",
    "df_3_attributes_all.to_csv('concated_1_farmersworld_all.csv', index=False)\n",
    "df_of_data_all.to_csv('concated_2_farmersworld_data.csv', index=False)\n",
    "df_of_nested_assets_all.to_csv('concated_3_farmersworld_assets.csv', index=False)\n",
    "df_of_nested_prices_all.to_csv('concated_4_farmersworld_prices.csv', index=False)\n"
   ]
  },
  {
   "cell_type": "markdown",
   "metadata": {},
   "source": [
    "spracovanie dát"
   ]
  },
  {
   "cell_type": "code",
   "execution_count": 319,
   "metadata": {},
   "outputs": [],
   "source": [
    "df_data = pd.read_csv('concated_2_farmersworld_data.csv')\n",
    "df_assets = pd.read_csv('concated_3_farmersworld_assets.csv')\n",
    "df_prices = pd.read_csv('concated_4_farmersworld_prices.csv')"
   ]
  },
  {
   "cell_type": "code",
   "execution_count": 320,
   "metadata": {},
   "outputs": [],
   "source": [
    "# funkcia na rozdelenie stĺpcov podľa typu dát\n",
    "def get_columns(df):\n",
    "    categories = df.select_dtypes(include='object').columns\n",
    "    print(categories)\n",
    "    numerics = df.select_dtypes(include=['float64', 'int64']).columns\n",
    "    # numerics_num = df.select_dtypes(include='number').columns\n",
    "    print(numerics)\n",
    "    bools = df.select_dtypes(include='bool').columns\n",
    "    print(bools)\n",
    "    return categories, numerics, bools\n"
   ]
  },
  {
   "cell_type": "code",
   "execution_count": 321,
   "metadata": {},
   "outputs": [],
   "source": [
    "def drop_columns(df):\n",
    "    print(df.shape)\n",
    "\n",
    "    categories, numerics, bools = get_columns(df)\n",
    "\n",
    "    # odstranenie - kategorické stlpce s jedinou unikátnou hodnotou = konštantné stĺpce\n",
    "    print(\"categories\")\n",
    "    for i in df[categories].columns:\n",
    "        if df[i].nunique() == 1:\n",
    "            df.drop(i, axis=1, inplace=True)\n",
    "            print(f\"dropped {i}\")\n",
    "\n",
    "    # odstranenie - numerické stĺpce s jedinou unikátnou hodnotou = konštantné stĺpce\n",
    "    print(\"numerics\")\n",
    "    df[numerics].var()[df[numerics].var() == 0].index\n",
    "    constant_columns = df[numerics].var()[df[numerics].var() == 0].index\n",
    "    print(constant_columns)\n",
    "    df.drop(constant_columns, axis=1, inplace=True)        \n",
    "\n",
    "    # odstranenie - stĺpce typu bool s jedinou unikátnou hodnotou = konštantné stĺpce\n",
    "    print(\"bools\")\n",
    "    for i in df[bools]:\n",
    "        if len(df[i].unique()) == 1:\n",
    "            df.drop(i, axis=1, inplace=True)\n",
    "            print(f\"dropped {i}\")\n",
    "\n",
    "\n",
    "    # odstranenie stĺpcov s chýbajúcimi hodnotami\n",
    "    print(\"missing values\")\n",
    "    for i in df.columns:\n",
    "        if df[i].isnull().sum() == df.shape[0]:\n",
    "            df.drop(i, axis=1, inplace=True)\n",
    "            print(f\"dropped {i}\")\n",
    "\n",
    "    # odstranenie stĺpcov s chýbajúcimi hodnotami - axis=1 znamená stĺpce, how='all' znamená, že všetky hodnoty v stĺpci chýbajú, inplace=True znamená, že stĺpce sa odstránia v pôvodnom rámci dát\n",
    "    df.dropna(axis=1, how='all', inplace=True)   \n",
    "\n",
    "\n",
    "    print(df.shape)\n",
    "    return df"
   ]
  },
  {
   "cell_type": "code",
   "execution_count": 322,
   "metadata": {},
   "outputs": [
    {
     "name": "stdout",
     "output_type": "stream",
     "text": [
      "(500, 36)\n",
      "Index(['market_contract', 'assets_contract', 'seller', 'buyer',\n",
      "       'listing_symbol', 'maker_marketplace', 'collection_name',\n",
      "       'updated_at_time', 'created_at_time', 'price.token_contract',\n",
      "       'price.token_symbol', 'collection.collection_name', 'collection.name',\n",
      "       'collection.img', 'collection.author', 'collection.authorized_accounts',\n",
      "       'collection.notify_accounts'],\n",
      "      dtype='object')\n",
      "Index(['sale_id', 'offer_id', 'listing_price', 'taker_marketplace',\n",
      "       'updated_at_block', 'created_at_block', 'ordinality', 'state',\n",
      "       'price.token_precision', 'price.median', 'price.amount',\n",
      "       'collection.images', 'collection.market_fee',\n",
      "       'collection.created_at_block', 'collection.created_at_time',\n",
      "       'price_wax', 'price_usd'],\n",
      "      dtype='object')\n",
      "Index(['is_seller_contract', 'collection.allow_notify'], dtype='object')\n",
      "categories\n",
      "dropped market_contract\n",
      "dropped assets_contract\n",
      "dropped listing_symbol\n",
      "dropped collection_name\n",
      "dropped price.token_contract\n",
      "dropped price.token_symbol\n",
      "dropped collection.collection_name\n",
      "dropped collection.name\n",
      "dropped collection.img\n",
      "dropped collection.author\n",
      "dropped collection.authorized_accounts\n",
      "dropped collection.notify_accounts\n",
      "numerics\n",
      "Index(['state', 'price.token_precision', 'collection.market_fee',\n",
      "       'collection.created_at_block', 'collection.created_at_time'],\n",
      "      dtype='object')\n",
      "bools\n",
      "dropped is_seller_contract\n",
      "dropped collection.allow_notify\n",
      "missing values\n",
      "dropped taker_marketplace\n",
      "dropped price.median\n",
      "dropped collection.images\n",
      "(500, 14)\n"
     ]
    }
   ],
   "source": [
    "df_dropped = drop_columns(df_data)"
   ]
  },
  {
   "cell_type": "code",
   "execution_count": 323,
   "metadata": {},
   "outputs": [
    {
     "name": "stdout",
     "output_type": "stream",
     "text": [
      "(1581, 58)\n",
      "Index(['contract', 'owner', 'backed_tokens', 'burned_by_account',\n",
      "       'burned_at_time', 'updated_at_time', 'transferred_at_time',\n",
      "       'minted_at_time', 'sales', 'auctions', 'template_buyoffers', 'name',\n",
      "       'collection.collection_name', 'collection.name', 'collection.img',\n",
      "       'collection.author', 'collection.authorized_accounts',\n",
      "       'collection.notify_accounts', 'collection.created_at_time',\n",
      "       'schema.schema_name', 'schema.format', 'schema.created_at_time',\n",
      "       'template.immutable_data.img', 'template.immutable_data.name',\n",
      "       'template.immutable_data.rarity', 'template.immutable_data.description',\n",
      "       'template.created_at_time', 'data.img', 'data.name', 'data.rarity',\n",
      "       'data.description', 'template.immutable_data.type', 'data.type'],\n",
      "      dtype='object')\n",
      "Index(['asset_id', 'template_mint', 'burned_at_block', 'updated_at_block',\n",
      "       'transferred_at_block', 'minted_at_block', 'sale_id',\n",
      "       'collection.images', 'collection.market_fee',\n",
      "       'collection.created_at_block', 'schema.created_at_block',\n",
      "       'template.template_id', 'template.max_supply', 'template.issued_supply',\n",
      "       'template.created_at_block', 'template.immutable_data.level',\n",
      "       'data.level', 'template.immutable_data.durability', 'data.durability',\n",
      "       'unique_id'],\n",
      "      dtype='object')\n",
      "Index(['is_transferable', 'is_burnable', 'collection.allow_notify',\n",
      "       'template.is_transferable', 'template.is_burnable'],\n",
      "      dtype='object')\n",
      "categories\n",
      "dropped contract\n",
      "dropped backed_tokens\n",
      "dropped burned_by_account\n",
      "dropped sales\n",
      "dropped auctions\n",
      "dropped template_buyoffers\n",
      "dropped collection.collection_name\n",
      "dropped collection.name\n",
      "dropped collection.img\n",
      "dropped collection.author\n",
      "dropped collection.authorized_accounts\n",
      "dropped collection.notify_accounts\n",
      "dropped collection.created_at_time\n",
      "numerics\n",
      "Index(['collection.created_at_block', 'template.max_supply'], dtype='object')\n",
      "bools\n",
      "dropped is_transferable\n",
      "dropped is_burnable\n",
      "dropped collection.allow_notify\n",
      "dropped template.is_transferable\n",
      "dropped template.is_burnable\n",
      "missing values\n",
      "dropped collection.images\n",
      "(1581, 37)\n"
     ]
    }
   ],
   "source": [
    "df_assets_dropped = drop_columns(df_assets)"
   ]
  },
  {
   "cell_type": "code",
   "execution_count": 324,
   "metadata": {},
   "outputs": [
    {
     "name": "stdout",
     "output_type": "stream",
     "text": [
      "(1581, 13)\n",
      "Index(['market_contract', 'token.token_symbol', 'token.token_contract'], dtype='object')\n",
      "Index(['median', 'average', 'suggested_median', 'suggested_average', 'min',\n",
      "       'max', 'sales', 'sale_id', 'token.token_precision', 'unique_id'],\n",
      "      dtype='object')\n",
      "Index([], dtype='object')\n",
      "categories\n",
      "dropped market_contract\n",
      "dropped token.token_symbol\n",
      "dropped token.token_contract\n",
      "numerics\n",
      "Index(['token.token_precision'], dtype='object')\n",
      "bools\n",
      "missing values\n",
      "(1581, 9)\n"
     ]
    }
   ],
   "source": [
    "df_prices_dropped = drop_columns(df_prices)"
   ]
  },
  {
   "cell_type": "code",
   "execution_count": 325,
   "metadata": {},
   "outputs": [
    {
     "data": {
      "text/plain": [
       "(1581, 45)"
      ]
     },
     "execution_count": 325,
     "metadata": {},
     "output_type": "execute_result"
    }
   ],
   "source": [
    "# spojenie dátových rámcov na základe unikátneho ID\n",
    "df_assets_prices = pd.merge(df_assets_dropped, df_prices_dropped, on='unique_id', how='inner')\n",
    "df_assets_prices.shape"
   ]
  },
  {
   "cell_type": "code",
   "execution_count": 326,
   "metadata": {},
   "outputs": [
    {
     "data": {
      "text/plain": [
       "Index(['asset_id', 'owner', 'template_mint', 'burned_at_block',\n",
       "       'burned_at_time', 'updated_at_block', 'updated_at_time',\n",
       "       'transferred_at_block', 'transferred_at_time', 'minted_at_block',\n",
       "       'minted_at_time', 'name', 'sale_id_x', 'collection.market_fee',\n",
       "       'schema.schema_name', 'schema.format', 'schema.created_at_block',\n",
       "       'schema.created_at_time', 'template.template_id',\n",
       "       'template.issued_supply', 'template.immutable_data.img',\n",
       "       'template.immutable_data.name', 'template.immutable_data.rarity',\n",
       "       'template.immutable_data.description', 'template.created_at_time',\n",
       "       'template.created_at_block', 'data.img', 'data.name', 'data.rarity',\n",
       "       'data.description', 'template.immutable_data.type',\n",
       "       'template.immutable_data.level', 'data.type', 'data.level',\n",
       "       'template.immutable_data.durability', 'data.durability', 'unique_id',\n",
       "       'median', 'average', 'suggested_median', 'suggested_average', 'min',\n",
       "       'max', 'sales', 'sale_id_y'],\n",
       "      dtype='object')"
      ]
     },
     "execution_count": 326,
     "metadata": {},
     "output_type": "execute_result"
    }
   ],
   "source": [
    "# uloženie dát do csv súborov\n",
    "df_dropped.to_csv('data_dropped.csv', index=False)\n",
    "df_assets_prices.to_csv('assets_merged.csv', index=False)\n",
    "df_assets_prices.columns"
   ]
  },
  {
   "cell_type": "code",
   "execution_count": null,
   "metadata": {},
   "outputs": [],
   "source": []
  },
  {
   "cell_type": "code",
   "execution_count": 327,
   "metadata": {},
   "outputs": [
    {
     "name": "stdout",
     "output_type": "stream",
     "text": [
      "All sale_id_x and sale_id_y values match.\n"
     ]
    }
   ],
   "source": [
    "# skontroluje sa, či spojený datový rámec vytvorí správne stĺpce sale_id_x a sale_id_y, ktoré by mali mať rovnaké hodnoty\n",
    "for index, row in df_assets_prices.iterrows():\n",
    "    if row['sale_id_x'] != row['sale_id_y']:\n",
    "        print(\"Mismatch found!\")\n",
    "        break\n",
    "else:\n",
    "    print(\"All sale_id_x and sale_id_y values match.\")\n",
    "    df_assets_prices.drop('sale_id_y', axis=1, inplace=True)\n",
    "    df_assets_prices.rename(columns={'sale_id_x': 'sale_id'}, inplace=True)\n"
   ]
  },
  {
   "cell_type": "code",
   "execution_count": 328,
   "metadata": {},
   "outputs": [
    {
     "name": "stderr",
     "output_type": "stream",
     "text": [
      "C:\\Users\\biank\\AppData\\Local\\Temp\\ipykernel_29160\\3739850762.py:17: FutureWarning:\n",
      "\n",
      "A value is trying to be set on a copy of a DataFrame or Series through chained assignment using an inplace method.\n",
      "The behavior will change in pandas 3.0. This inplace method will never work because the intermediate object on which we are setting values always behaves as a copy.\n",
      "\n",
      "For example, when doing 'df[col].method(value, inplace=True)', try using 'df.method({col: value}, inplace=True)' or df[col] = df[col].method(value) instead, to perform the operation inplace on the original object.\n",
      "\n",
      "\n",
      "\n"
     ]
    },
    {
     "data": {
      "text/html": [
       "<div>\n",
       "<style scoped>\n",
       "    .dataframe tbody tr th:only-of-type {\n",
       "        vertical-align: middle;\n",
       "    }\n",
       "\n",
       "    .dataframe tbody tr th {\n",
       "        vertical-align: top;\n",
       "    }\n",
       "\n",
       "    .dataframe thead th {\n",
       "        text-align: right;\n",
       "    }\n",
       "</style>\n",
       "<table border=\"1\" class=\"dataframe\">\n",
       "  <thead>\n",
       "    <tr style=\"text-align: right;\">\n",
       "      <th></th>\n",
       "      <th>sale_id</th>\n",
       "      <th>seller</th>\n",
       "      <th>buyer</th>\n",
       "      <th>offer_id</th>\n",
       "      <th>listing_price</th>\n",
       "      <th>maker_marketplace</th>\n",
       "      <th>updated_at_block</th>\n",
       "      <th>updated_at_time</th>\n",
       "      <th>created_at_block</th>\n",
       "      <th>created_at_time</th>\n",
       "      <th>ordinality</th>\n",
       "      <th>price.amount</th>\n",
       "      <th>price_wax</th>\n",
       "      <th>price_usd</th>\n",
       "      <th>num_assets</th>\n",
       "    </tr>\n",
       "  </thead>\n",
       "  <tbody>\n",
       "    <tr>\n",
       "      <th>0</th>\n",
       "      <td>156164252</td>\n",
       "      <td>42krg.wam</td>\n",
       "      <td>22z2i.c.wam</td>\n",
       "      <td>162953636</td>\n",
       "      <td>4800000</td>\n",
       "      <td>NaN</td>\n",
       "      <td>309920387</td>\n",
       "      <td>2024-05-23 05:07:12</td>\n",
       "      <td>309836423</td>\n",
       "      <td>2024-05-22 17:27:30</td>\n",
       "      <td>1</td>\n",
       "      <td>4800000</td>\n",
       "      <td>0.04800</td>\n",
       "      <td>0.00309</td>\n",
       "      <td>1</td>\n",
       "    </tr>\n",
       "    <tr>\n",
       "      <th>1</th>\n",
       "      <td>156182005</td>\n",
       "      <td>v223i.c.wam</td>\n",
       "      <td>22z2i.c.wam</td>\n",
       "      <td>162976517</td>\n",
       "      <td>4704480</td>\n",
       "      <td>NaN</td>\n",
       "      <td>309920387</td>\n",
       "      <td>2024-05-23 05:07:12</td>\n",
       "      <td>309894937</td>\n",
       "      <td>2024-05-23 01:35:07</td>\n",
       "      <td>2</td>\n",
       "      <td>4704480</td>\n",
       "      <td>0.04704</td>\n",
       "      <td>0.00302</td>\n",
       "      <td>1</td>\n",
       "    </tr>\n",
       "    <tr>\n",
       "      <th>2</th>\n",
       "      <td>156027882</td>\n",
       "      <td>oekye.wam</td>\n",
       "      <td>22z2i.c.wam</td>\n",
       "      <td>162774921</td>\n",
       "      <td>4988800</td>\n",
       "      <td>market.nefty</td>\n",
       "      <td>309760790</td>\n",
       "      <td>2024-05-22 06:57:13</td>\n",
       "      <td>309344819</td>\n",
       "      <td>2024-05-19 21:10:48</td>\n",
       "      <td>3</td>\n",
       "      <td>4988800</td>\n",
       "      <td>0.04989</td>\n",
       "      <td>0.00321</td>\n",
       "      <td>1</td>\n",
       "    </tr>\n",
       "    <tr>\n",
       "      <th>3</th>\n",
       "      <td>156027891</td>\n",
       "      <td>oekye.wam</td>\n",
       "      <td>22z2i.c.wam</td>\n",
       "      <td>162774934</td>\n",
       "      <td>4988800</td>\n",
       "      <td>market.nefty</td>\n",
       "      <td>309760790</td>\n",
       "      <td>2024-05-22 06:57:13</td>\n",
       "      <td>309344851</td>\n",
       "      <td>2024-05-19 21:11:04</td>\n",
       "      <td>4</td>\n",
       "      <td>4988800</td>\n",
       "      <td>0.04989</td>\n",
       "      <td>0.00321</td>\n",
       "      <td>1</td>\n",
       "    </tr>\n",
       "    <tr>\n",
       "      <th>4</th>\n",
       "      <td>156027893</td>\n",
       "      <td>oekye.wam</td>\n",
       "      <td>22z2i.c.wam</td>\n",
       "      <td>162774938</td>\n",
       "      <td>4988800</td>\n",
       "      <td>market.nefty</td>\n",
       "      <td>309760790</td>\n",
       "      <td>2024-05-22 06:57:13</td>\n",
       "      <td>309344876</td>\n",
       "      <td>2024-05-19 21:11:16</td>\n",
       "      <td>5</td>\n",
       "      <td>4988800</td>\n",
       "      <td>0.04989</td>\n",
       "      <td>0.00321</td>\n",
       "      <td>1</td>\n",
       "    </tr>\n",
       "    <tr>\n",
       "      <th>...</th>\n",
       "      <td>...</td>\n",
       "      <td>...</td>\n",
       "      <td>...</td>\n",
       "      <td>...</td>\n",
       "      <td>...</td>\n",
       "      <td>...</td>\n",
       "      <td>...</td>\n",
       "      <td>...</td>\n",
       "      <td>...</td>\n",
       "      <td>...</td>\n",
       "      <td>...</td>\n",
       "      <td>...</td>\n",
       "      <td>...</td>\n",
       "      <td>...</td>\n",
       "      <td>...</td>\n",
       "    </tr>\n",
       "    <tr>\n",
       "      <th>495</th>\n",
       "      <td>154738801</td>\n",
       "      <td>l3jzs.wam</td>\n",
       "      <td>vd44e.c.wam</td>\n",
       "      <td>161058813</td>\n",
       "      <td>159000000</td>\n",
       "      <td>NaN</td>\n",
       "      <td>303941182</td>\n",
       "      <td>2024-04-18 14:37:42</td>\n",
       "      <td>303834032</td>\n",
       "      <td>2024-04-17 23:44:47</td>\n",
       "      <td>96</td>\n",
       "      <td>159000000</td>\n",
       "      <td>1.59000</td>\n",
       "      <td>0.10224</td>\n",
       "      <td>50</td>\n",
       "    </tr>\n",
       "    <tr>\n",
       "      <th>496</th>\n",
       "      <td>154739267</td>\n",
       "      <td>qzcio.wam</td>\n",
       "      <td>vd44e.c.wam</td>\n",
       "      <td>161059413</td>\n",
       "      <td>159000000</td>\n",
       "      <td>NaN</td>\n",
       "      <td>303941182</td>\n",
       "      <td>2024-04-18 14:37:42</td>\n",
       "      <td>303836119</td>\n",
       "      <td>2024-04-18 00:02:10</td>\n",
       "      <td>97</td>\n",
       "      <td>159000000</td>\n",
       "      <td>1.59000</td>\n",
       "      <td>0.10224</td>\n",
       "      <td>50</td>\n",
       "    </tr>\n",
       "    <tr>\n",
       "      <th>497</th>\n",
       "      <td>154749451</td>\n",
       "      <td>ds3jy.wam</td>\n",
       "      <td>3.g2c.c.wam</td>\n",
       "      <td>161074404</td>\n",
       "      <td>20000000000</td>\n",
       "      <td>NaN</td>\n",
       "      <td>303909189</td>\n",
       "      <td>2024-04-18 10:11:05</td>\n",
       "      <td>303892018</td>\n",
       "      <td>2024-04-18 07:48:00</td>\n",
       "      <td>98</td>\n",
       "      <td>20000000000</td>\n",
       "      <td>200.00000</td>\n",
       "      <td>12.86000</td>\n",
       "      <td>99</td>\n",
       "    </tr>\n",
       "    <tr>\n",
       "      <th>498</th>\n",
       "      <td>154716326</td>\n",
       "      <td>kjx2q.c.wam</td>\n",
       "      <td>vd44e.c.wam</td>\n",
       "      <td>161028108</td>\n",
       "      <td>159000000</td>\n",
       "      <td>NaN</td>\n",
       "      <td>303761156</td>\n",
       "      <td>2024-04-17 13:37:29</td>\n",
       "      <td>303736204</td>\n",
       "      <td>2024-04-17 10:09:33</td>\n",
       "      <td>99</td>\n",
       "      <td>159000000</td>\n",
       "      <td>1.59000</td>\n",
       "      <td>0.10224</td>\n",
       "      <td>48</td>\n",
       "    </tr>\n",
       "    <tr>\n",
       "      <th>499</th>\n",
       "      <td>154716534</td>\n",
       "      <td>qzi2k.c.wam</td>\n",
       "      <td>vd44e.c.wam</td>\n",
       "      <td>161028371</td>\n",
       "      <td>159000000</td>\n",
       "      <td>NaN</td>\n",
       "      <td>303761156</td>\n",
       "      <td>2024-04-17 13:37:29</td>\n",
       "      <td>303737783</td>\n",
       "      <td>2024-04-17 10:22:42</td>\n",
       "      <td>100</td>\n",
       "      <td>159000000</td>\n",
       "      <td>1.59000</td>\n",
       "      <td>0.10224</td>\n",
       "      <td>50</td>\n",
       "    </tr>\n",
       "  </tbody>\n",
       "</table>\n",
       "<p>500 rows × 15 columns</p>\n",
       "</div>"
      ],
      "text/plain": [
       "       sale_id       seller        buyer   offer_id  listing_price  \\\n",
       "0    156164252    42krg.wam  22z2i.c.wam  162953636        4800000   \n",
       "1    156182005  v223i.c.wam  22z2i.c.wam  162976517        4704480   \n",
       "2    156027882    oekye.wam  22z2i.c.wam  162774921        4988800   \n",
       "3    156027891    oekye.wam  22z2i.c.wam  162774934        4988800   \n",
       "4    156027893    oekye.wam  22z2i.c.wam  162774938        4988800   \n",
       "..         ...          ...          ...        ...            ...   \n",
       "495  154738801    l3jzs.wam  vd44e.c.wam  161058813      159000000   \n",
       "496  154739267    qzcio.wam  vd44e.c.wam  161059413      159000000   \n",
       "497  154749451    ds3jy.wam  3.g2c.c.wam  161074404    20000000000   \n",
       "498  154716326  kjx2q.c.wam  vd44e.c.wam  161028108      159000000   \n",
       "499  154716534  qzi2k.c.wam  vd44e.c.wam  161028371      159000000   \n",
       "\n",
       "    maker_marketplace  updated_at_block      updated_at_time  \\\n",
       "0                 NaN         309920387  2024-05-23 05:07:12   \n",
       "1                 NaN         309920387  2024-05-23 05:07:12   \n",
       "2        market.nefty         309760790  2024-05-22 06:57:13   \n",
       "3        market.nefty         309760790  2024-05-22 06:57:13   \n",
       "4        market.nefty         309760790  2024-05-22 06:57:13   \n",
       "..                ...               ...                  ...   \n",
       "495               NaN         303941182  2024-04-18 14:37:42   \n",
       "496               NaN         303941182  2024-04-18 14:37:42   \n",
       "497               NaN         303909189  2024-04-18 10:11:05   \n",
       "498               NaN         303761156  2024-04-17 13:37:29   \n",
       "499               NaN         303761156  2024-04-17 13:37:29   \n",
       "\n",
       "     created_at_block      created_at_time  ordinality  price.amount  \\\n",
       "0           309836423  2024-05-22 17:27:30           1       4800000   \n",
       "1           309894937  2024-05-23 01:35:07           2       4704480   \n",
       "2           309344819  2024-05-19 21:10:48           3       4988800   \n",
       "3           309344851  2024-05-19 21:11:04           4       4988800   \n",
       "4           309344876  2024-05-19 21:11:16           5       4988800   \n",
       "..                ...                  ...         ...           ...   \n",
       "495         303834032  2024-04-17 23:44:47          96     159000000   \n",
       "496         303836119  2024-04-18 00:02:10          97     159000000   \n",
       "497         303892018  2024-04-18 07:48:00          98   20000000000   \n",
       "498         303736204  2024-04-17 10:09:33          99     159000000   \n",
       "499         303737783  2024-04-17 10:22:42         100     159000000   \n",
       "\n",
       "     price_wax  price_usd  num_assets  \n",
       "0      0.04800    0.00309           1  \n",
       "1      0.04704    0.00302           1  \n",
       "2      0.04989    0.00321           1  \n",
       "3      0.04989    0.00321           1  \n",
       "4      0.04989    0.00321           1  \n",
       "..         ...        ...         ...  \n",
       "495    1.59000    0.10224          50  \n",
       "496    1.59000    0.10224          50  \n",
       "497  200.00000   12.86000          99  \n",
       "498    1.59000    0.10224          48  \n",
       "499    1.59000    0.10224          50  \n",
       "\n",
       "[500 rows x 15 columns]"
      ]
     },
     "execution_count": 328,
     "metadata": {},
     "output_type": "execute_result"
    }
   ],
   "source": [
    "#spočítaju sa počty aktív v každom predaji\n",
    "\n",
    "'''\n",
    "def count_sales(sale_id):\n",
    "    return df_assets_prices[df_assets_prices['sale_id'] == sale_id].shape[0]\n",
    "\n",
    "# aplikovanie funkcie na každý riadok v stĺpci sale_id\n",
    "df_dropped['count_matching_sales'] = df_dropped['sale_id'].apply(count_sales)\n",
    "'''\n",
    "# zoskup podľa sale_id a size() a spočítaj počet aktív v každom predaji\n",
    "assets_grouped = df_assets_prices.groupby('sale_id').size().reset_index(name='num_assets')\n",
    "\n",
    "# spojenie dátových rámcov na základe sale_id\n",
    "merged_df = pd.merge(df_dropped, assets_grouped, on='sale_id', how='left')\n",
    "\n",
    "# ak niektoré predaje nemajú žiadne aktíva, počet aktív bude 0\n",
    "merged_df['num_assets'].fillna(0, inplace=True)\n",
    "\n",
    "merged_df"
   ]
  },
  {
   "cell_type": "markdown",
   "metadata": {},
   "source": [
    "metody detekcie anomalii"
   ]
  },
  {
   "cell_type": "code",
   "execution_count": 329,
   "metadata": {},
   "outputs": [],
   "source": [
    "df_of_data = pd.read_csv('data_dropped.csv')\n",
    "df_of_nested_assets = pd.read_csv('assets_merged.csv')"
   ]
  },
  {
   "cell_type": "code",
   "execution_count": 330,
   "metadata": {},
   "outputs": [
    {
     "name": "stdout",
     "output_type": "stream",
     "text": [
      "[497]\n",
      "1\n"
     ]
    },
    {
     "data": {
      "text/html": [
       "<div>\n",
       "<style scoped>\n",
       "    .dataframe tbody tr th:only-of-type {\n",
       "        vertical-align: middle;\n",
       "    }\n",
       "\n",
       "    .dataframe tbody tr th {\n",
       "        vertical-align: top;\n",
       "    }\n",
       "\n",
       "    .dataframe thead th {\n",
       "        text-align: right;\n",
       "    }\n",
       "</style>\n",
       "<table border=\"1\" class=\"dataframe\">\n",
       "  <thead>\n",
       "    <tr style=\"text-align: right;\">\n",
       "      <th></th>\n",
       "      <th>sale_id</th>\n",
       "      <th>seller</th>\n",
       "      <th>buyer</th>\n",
       "      <th>offer_id</th>\n",
       "      <th>listing_price</th>\n",
       "      <th>maker_marketplace</th>\n",
       "      <th>updated_at_block</th>\n",
       "      <th>updated_at_time</th>\n",
       "      <th>created_at_block</th>\n",
       "      <th>created_at_time</th>\n",
       "      <th>ordinality</th>\n",
       "      <th>price.amount</th>\n",
       "      <th>price_wax</th>\n",
       "      <th>price_usd</th>\n",
       "    </tr>\n",
       "  </thead>\n",
       "  <tbody>\n",
       "    <tr>\n",
       "      <th>497</th>\n",
       "      <td>154749451</td>\n",
       "      <td>ds3jy.wam</td>\n",
       "      <td>3.g2c.c.wam</td>\n",
       "      <td>161074404</td>\n",
       "      <td>20000000000</td>\n",
       "      <td>NaN</td>\n",
       "      <td>303909189</td>\n",
       "      <td>2024-04-18 10:11:05</td>\n",
       "      <td>303892018</td>\n",
       "      <td>2024-04-18 07:48:00</td>\n",
       "      <td>98</td>\n",
       "      <td>20000000000</td>\n",
       "      <td>200.0</td>\n",
       "      <td>12.86</td>\n",
       "    </tr>\n",
       "  </tbody>\n",
       "</table>\n",
       "</div>"
      ],
      "text/plain": [
       "       sale_id     seller        buyer   offer_id  listing_price  \\\n",
       "497  154749451  ds3jy.wam  3.g2c.c.wam  161074404    20000000000   \n",
       "\n",
       "    maker_marketplace  updated_at_block      updated_at_time  \\\n",
       "497               NaN         303909189  2024-04-18 10:11:05   \n",
       "\n",
       "     created_at_block      created_at_time  ordinality  price.amount  \\\n",
       "497         303892018  2024-04-18 07:48:00          98   20000000000   \n",
       "\n",
       "     price_wax  price_usd  \n",
       "497      200.0      12.86  "
      ]
     },
     "execution_count": 330,
     "metadata": {},
     "output_type": "execute_result"
    }
   ],
   "source": [
    "import numpy as np\n",
    "from scipy import stats\n",
    "\n",
    "def z_score_method(data, threshold=3):\n",
    "\n",
    "    # metoda z-score - parametre: data, threshold\n",
    "    # z_score = (X - mean) / std\n",
    "    # vystupom je zoznam indexov anomálií\n",
    "\n",
    "    z_scores = np.abs(stats.zscore(data))\n",
    "    anomalies = np.where(z_scores > threshold)[0]\n",
    "    return anomalies\n",
    "\n",
    "anomalies = z_score_method(df_of_data['price.amount'])\n",
    "print(anomalies)\n",
    "print(len(anomalies))\n",
    "df_of_data.iloc[anomalies]"
   ]
  },
  {
   "cell_type": "code",
   "execution_count": 331,
   "metadata": {},
   "outputs": [
    {
     "name": "stdout",
     "output_type": "stream",
     "text": [
      "[  0   1   2   3   4   5   6   7   8   9  10  11  12  13  14  15  16  17\n",
      "  18  19  20  21  22  23  24  25  26  27  28  29  30  31  32  33  63  64\n",
      " 143 144 154 155 156 157 158 159 160 161 162 163 164 165 166 167 168 169\n",
      " 170 171 260 261 262 263 264 265 266 267 268 269 270 271 272 273 274 275\n",
      " 276 277 278 279 280 281 282 283 284 285 286 287 288 289 290 291 292 293\n",
      " 294 295 296 452 453 454 455 456 457 458 459 460 461 462 463 464 465 466\n",
      " 467 468 469 492 493 494 495 496 497 498 499]\n",
      "119\n"
     ]
    },
    {
     "data": {
      "text/html": [
       "<div>\n",
       "<style scoped>\n",
       "    .dataframe tbody tr th:only-of-type {\n",
       "        vertical-align: middle;\n",
       "    }\n",
       "\n",
       "    .dataframe tbody tr th {\n",
       "        vertical-align: top;\n",
       "    }\n",
       "\n",
       "    .dataframe thead th {\n",
       "        text-align: right;\n",
       "    }\n",
       "</style>\n",
       "<table border=\"1\" class=\"dataframe\">\n",
       "  <thead>\n",
       "    <tr style=\"text-align: right;\">\n",
       "      <th></th>\n",
       "      <th>sale_id</th>\n",
       "      <th>seller</th>\n",
       "      <th>buyer</th>\n",
       "      <th>offer_id</th>\n",
       "      <th>listing_price</th>\n",
       "      <th>maker_marketplace</th>\n",
       "      <th>updated_at_block</th>\n",
       "      <th>updated_at_time</th>\n",
       "      <th>created_at_block</th>\n",
       "      <th>created_at_time</th>\n",
       "      <th>ordinality</th>\n",
       "      <th>price.amount</th>\n",
       "      <th>price_wax</th>\n",
       "      <th>price_usd</th>\n",
       "    </tr>\n",
       "  </thead>\n",
       "  <tbody>\n",
       "    <tr>\n",
       "      <th>0</th>\n",
       "      <td>156164252</td>\n",
       "      <td>42krg.wam</td>\n",
       "      <td>22z2i.c.wam</td>\n",
       "      <td>162953636</td>\n",
       "      <td>4800000</td>\n",
       "      <td>NaN</td>\n",
       "      <td>309920387</td>\n",
       "      <td>2024-05-23 05:07:12</td>\n",
       "      <td>309836423</td>\n",
       "      <td>2024-05-22 17:27:30</td>\n",
       "      <td>1</td>\n",
       "      <td>4800000</td>\n",
       "      <td>0.04800</td>\n",
       "      <td>0.00309</td>\n",
       "    </tr>\n",
       "    <tr>\n",
       "      <th>1</th>\n",
       "      <td>156182005</td>\n",
       "      <td>v223i.c.wam</td>\n",
       "      <td>22z2i.c.wam</td>\n",
       "      <td>162976517</td>\n",
       "      <td>4704480</td>\n",
       "      <td>NaN</td>\n",
       "      <td>309920387</td>\n",
       "      <td>2024-05-23 05:07:12</td>\n",
       "      <td>309894937</td>\n",
       "      <td>2024-05-23 01:35:07</td>\n",
       "      <td>2</td>\n",
       "      <td>4704480</td>\n",
       "      <td>0.04704</td>\n",
       "      <td>0.00302</td>\n",
       "    </tr>\n",
       "    <tr>\n",
       "      <th>2</th>\n",
       "      <td>156027882</td>\n",
       "      <td>oekye.wam</td>\n",
       "      <td>22z2i.c.wam</td>\n",
       "      <td>162774921</td>\n",
       "      <td>4988800</td>\n",
       "      <td>market.nefty</td>\n",
       "      <td>309760790</td>\n",
       "      <td>2024-05-22 06:57:13</td>\n",
       "      <td>309344819</td>\n",
       "      <td>2024-05-19 21:10:48</td>\n",
       "      <td>3</td>\n",
       "      <td>4988800</td>\n",
       "      <td>0.04989</td>\n",
       "      <td>0.00321</td>\n",
       "    </tr>\n",
       "    <tr>\n",
       "      <th>3</th>\n",
       "      <td>156027891</td>\n",
       "      <td>oekye.wam</td>\n",
       "      <td>22z2i.c.wam</td>\n",
       "      <td>162774934</td>\n",
       "      <td>4988800</td>\n",
       "      <td>market.nefty</td>\n",
       "      <td>309760790</td>\n",
       "      <td>2024-05-22 06:57:13</td>\n",
       "      <td>309344851</td>\n",
       "      <td>2024-05-19 21:11:04</td>\n",
       "      <td>4</td>\n",
       "      <td>4988800</td>\n",
       "      <td>0.04989</td>\n",
       "      <td>0.00321</td>\n",
       "    </tr>\n",
       "    <tr>\n",
       "      <th>4</th>\n",
       "      <td>156027893</td>\n",
       "      <td>oekye.wam</td>\n",
       "      <td>22z2i.c.wam</td>\n",
       "      <td>162774938</td>\n",
       "      <td>4988800</td>\n",
       "      <td>market.nefty</td>\n",
       "      <td>309760790</td>\n",
       "      <td>2024-05-22 06:57:13</td>\n",
       "      <td>309344876</td>\n",
       "      <td>2024-05-19 21:11:16</td>\n",
       "      <td>5</td>\n",
       "      <td>4988800</td>\n",
       "      <td>0.04989</td>\n",
       "      <td>0.00321</td>\n",
       "    </tr>\n",
       "  </tbody>\n",
       "</table>\n",
       "</div>"
      ],
      "text/plain": [
       "     sale_id       seller        buyer   offer_id  listing_price  \\\n",
       "0  156164252    42krg.wam  22z2i.c.wam  162953636        4800000   \n",
       "1  156182005  v223i.c.wam  22z2i.c.wam  162976517        4704480   \n",
       "2  156027882    oekye.wam  22z2i.c.wam  162774921        4988800   \n",
       "3  156027891    oekye.wam  22z2i.c.wam  162774934        4988800   \n",
       "4  156027893    oekye.wam  22z2i.c.wam  162774938        4988800   \n",
       "\n",
       "  maker_marketplace  updated_at_block      updated_at_time  created_at_block  \\\n",
       "0               NaN         309920387  2024-05-23 05:07:12         309836423   \n",
       "1               NaN         309920387  2024-05-23 05:07:12         309894937   \n",
       "2      market.nefty         309760790  2024-05-22 06:57:13         309344819   \n",
       "3      market.nefty         309760790  2024-05-22 06:57:13         309344851   \n",
       "4      market.nefty         309760790  2024-05-22 06:57:13         309344876   \n",
       "\n",
       "       created_at_time  ordinality  price.amount  price_wax  price_usd  \n",
       "0  2024-05-22 17:27:30           1       4800000    0.04800    0.00309  \n",
       "1  2024-05-23 01:35:07           2       4704480    0.04704    0.00302  \n",
       "2  2024-05-19 21:10:48           3       4988800    0.04989    0.00321  \n",
       "3  2024-05-19 21:11:04           4       4988800    0.04989    0.00321  \n",
       "4  2024-05-19 21:11:16           5       4988800    0.04989    0.00321  "
      ]
     },
     "execution_count": 331,
     "metadata": {},
     "output_type": "execute_result"
    }
   ],
   "source": [
    "def modified_z_score_method(data, threshold=3.5):\n",
    "\n",
    "    # metoda modifikovaného z-score - parametre: data, threshold\n",
    "    # MAD = Median Absolute Deviation\n",
    "    # modifikovaný z_score = 0.6745 * (X - median) / MAD\n",
    "    # vystupom je zoznam indexov anomálií\n",
    "\n",
    "    median = np.median(data)\n",
    "    mad = np.median(np.abs(data - median))\n",
    "    modified_z_scores = 0.6745 * (data - median) / mad\n",
    "    anomalies = np.where(np.abs(modified_z_scores) > threshold)[0]\n",
    "    return anomalies\n",
    "\n",
    "anomalies = modified_z_score_method(df_of_data['price.amount'])\n",
    "print(anomalies)\n",
    "print(len(anomalies))\n",
    "df_of_data.iloc[anomalies].head()"
   ]
  },
  {
   "cell_type": "code",
   "execution_count": 332,
   "metadata": {},
   "outputs": [
    {
     "name": "stdout",
     "output_type": "stream",
     "text": [
      "[  0   1   9  10  11  12  13  14  15  31  32  33  39  40  41  42  50  51\n",
      "  56  63  64  70  81  82 132 143 144 155 156 157 158 159 160 161 168 169\n",
      " 170 171 260 264 265 266 278 279 280 281 293 294 295 296 298 462 476 497]\n",
      "54\n"
     ]
    },
    {
     "data": {
      "text/html": [
       "<div>\n",
       "<style scoped>\n",
       "    .dataframe tbody tr th:only-of-type {\n",
       "        vertical-align: middle;\n",
       "    }\n",
       "\n",
       "    .dataframe tbody tr th {\n",
       "        vertical-align: top;\n",
       "    }\n",
       "\n",
       "    .dataframe thead th {\n",
       "        text-align: right;\n",
       "    }\n",
       "</style>\n",
       "<table border=\"1\" class=\"dataframe\">\n",
       "  <thead>\n",
       "    <tr style=\"text-align: right;\">\n",
       "      <th></th>\n",
       "      <th>sale_id</th>\n",
       "      <th>seller</th>\n",
       "      <th>buyer</th>\n",
       "      <th>offer_id</th>\n",
       "      <th>listing_price</th>\n",
       "      <th>maker_marketplace</th>\n",
       "      <th>updated_at_block</th>\n",
       "      <th>updated_at_time</th>\n",
       "      <th>created_at_block</th>\n",
       "      <th>created_at_time</th>\n",
       "      <th>ordinality</th>\n",
       "      <th>price.amount</th>\n",
       "      <th>price_wax</th>\n",
       "      <th>price_usd</th>\n",
       "    </tr>\n",
       "  </thead>\n",
       "  <tbody>\n",
       "    <tr>\n",
       "      <th>0</th>\n",
       "      <td>156164252</td>\n",
       "      <td>42krg.wam</td>\n",
       "      <td>22z2i.c.wam</td>\n",
       "      <td>162953636</td>\n",
       "      <td>4800000</td>\n",
       "      <td>NaN</td>\n",
       "      <td>309920387</td>\n",
       "      <td>2024-05-23 05:07:12</td>\n",
       "      <td>309836423</td>\n",
       "      <td>2024-05-22 17:27:30</td>\n",
       "      <td>1</td>\n",
       "      <td>4800000</td>\n",
       "      <td>0.04800</td>\n",
       "      <td>0.00309</td>\n",
       "    </tr>\n",
       "    <tr>\n",
       "      <th>1</th>\n",
       "      <td>156182005</td>\n",
       "      <td>v223i.c.wam</td>\n",
       "      <td>22z2i.c.wam</td>\n",
       "      <td>162976517</td>\n",
       "      <td>4704480</td>\n",
       "      <td>NaN</td>\n",
       "      <td>309920387</td>\n",
       "      <td>2024-05-23 05:07:12</td>\n",
       "      <td>309894937</td>\n",
       "      <td>2024-05-23 01:35:07</td>\n",
       "      <td>2</td>\n",
       "      <td>4704480</td>\n",
       "      <td>0.04704</td>\n",
       "      <td>0.00302</td>\n",
       "    </tr>\n",
       "    <tr>\n",
       "      <th>9</th>\n",
       "      <td>156090631</td>\n",
       "      <td>42krg.wam</td>\n",
       "      <td>22z2i.c.wam</td>\n",
       "      <td>162857131</td>\n",
       "      <td>4950000</td>\n",
       "      <td>NaN</td>\n",
       "      <td>309760790</td>\n",
       "      <td>2024-05-22 06:57:13</td>\n",
       "      <td>309570023</td>\n",
       "      <td>2024-05-21 04:27:30</td>\n",
       "      <td>10</td>\n",
       "      <td>4950000</td>\n",
       "      <td>0.04950</td>\n",
       "      <td>0.00318</td>\n",
       "    </tr>\n",
       "    <tr>\n",
       "      <th>10</th>\n",
       "      <td>156090663</td>\n",
       "      <td>42krg.wam</td>\n",
       "      <td>22z2i.c.wam</td>\n",
       "      <td>162857173</td>\n",
       "      <td>4950000</td>\n",
       "      <td>NaN</td>\n",
       "      <td>309760790</td>\n",
       "      <td>2024-05-22 06:57:13</td>\n",
       "      <td>309570167</td>\n",
       "      <td>2024-05-21 04:28:42</td>\n",
       "      <td>11</td>\n",
       "      <td>4950000</td>\n",
       "      <td>0.04950</td>\n",
       "      <td>0.00318</td>\n",
       "    </tr>\n",
       "    <tr>\n",
       "      <th>11</th>\n",
       "      <td>156093943</td>\n",
       "      <td>oekye.wam</td>\n",
       "      <td>22z2i.c.wam</td>\n",
       "      <td>162861759</td>\n",
       "      <td>4948800</td>\n",
       "      <td>market.nefty</td>\n",
       "      <td>309760790</td>\n",
       "      <td>2024-05-22 06:57:13</td>\n",
       "      <td>309584605</td>\n",
       "      <td>2024-05-21 06:29:01</td>\n",
       "      <td>12</td>\n",
       "      <td>4948800</td>\n",
       "      <td>0.04949</td>\n",
       "      <td>0.00318</td>\n",
       "    </tr>\n",
       "  </tbody>\n",
       "</table>\n",
       "</div>"
      ],
      "text/plain": [
       "      sale_id       seller        buyer   offer_id  listing_price  \\\n",
       "0   156164252    42krg.wam  22z2i.c.wam  162953636        4800000   \n",
       "1   156182005  v223i.c.wam  22z2i.c.wam  162976517        4704480   \n",
       "9   156090631    42krg.wam  22z2i.c.wam  162857131        4950000   \n",
       "10  156090663    42krg.wam  22z2i.c.wam  162857173        4950000   \n",
       "11  156093943    oekye.wam  22z2i.c.wam  162861759        4948800   \n",
       "\n",
       "   maker_marketplace  updated_at_block      updated_at_time  created_at_block  \\\n",
       "0                NaN         309920387  2024-05-23 05:07:12         309836423   \n",
       "1                NaN         309920387  2024-05-23 05:07:12         309894937   \n",
       "9                NaN         309760790  2024-05-22 06:57:13         309570023   \n",
       "10               NaN         309760790  2024-05-22 06:57:13         309570167   \n",
       "11      market.nefty         309760790  2024-05-22 06:57:13         309584605   \n",
       "\n",
       "        created_at_time  ordinality  price.amount  price_wax  price_usd  \n",
       "0   2024-05-22 17:27:30           1       4800000    0.04800    0.00309  \n",
       "1   2024-05-23 01:35:07           2       4704480    0.04704    0.00302  \n",
       "9   2024-05-21 04:27:30          10       4950000    0.04950    0.00318  \n",
       "10  2024-05-21 04:28:42          11       4950000    0.04950    0.00318  \n",
       "11  2024-05-21 06:29:01          12       4948800    0.04949    0.00318  "
      ]
     },
     "execution_count": 332,
     "metadata": {},
     "output_type": "execute_result"
    }
   ],
   "source": [
    "from sklearn.cluster import DBSCAN\n",
    "\n",
    "def dbscan_anomaly_detection(data, eps=0.5, min_samples=5):\n",
    "    # detekcia anomálií pomocou algoritmu DBSCAN\n",
    "    # parametre: data - numerické dáta,\n",
    "    #            eps - maximálna vzdialenosť medzi dvomi vzorkami\n",
    "    #            min_samples - minimálny počet vzoriek v okolí/susedstve\n",
    "    # vystupom je zoznam indexov anomálií\n",
    "\n",
    "    dbscan = DBSCAN(eps=eps, min_samples=min_samples)\n",
    "    dbscan.fit(data.reshape(-1, 1))\n",
    "    labels = dbscan.labels_\n",
    "    anomalies = np.where(labels == -1)[0]\n",
    "    return anomalies\n",
    "\n",
    "data = np.array(df_of_data['price.amount'])     # numerické dáta\n",
    "anomalies = dbscan_anomaly_detection(data)\n",
    "print(anomalies)                                # indexy anomálií\n",
    "print(len(anomalies))\n",
    "df_of_data.iloc[anomalies].head()\n"
   ]
  },
  {
   "cell_type": "code",
   "execution_count": 333,
   "metadata": {},
   "outputs": [
    {
     "name": "stdout",
     "output_type": "stream",
     "text": [
      "[  0   1   2   3   4   5   6   7   8   9  10  11  12  13  14  15  16  17\n",
      "  18  19  20  21  22  23  24  25  26  27  28  29  30  31  32  33  34  35\n",
      "  36  37  38  39  40  41  42  43  44  45  46  47  48  49  50  51  52  53\n",
      "  54  55  56  57  58  59  60  61  62  63  64  65  66  67  68  69  70  71\n",
      "  72  73  74  75  76  77  78  79  80  81  82  83  84  85  86  87  88  89\n",
      "  90  91  92  93  94  95  96  97  98  99 100 101 102 103 104 105 106 107\n",
      " 108 109 110 111 112 113 114 115 116 117 118 119 120 121 122 123 124 125\n",
      " 126 127 128 129 130 131 132 133 134 135 136 137 138 139 140 141 142 143\n",
      " 144 145 146 147 148 149 150 151 152 153 154 155 156 157 158 159 160 161\n",
      " 162 163 164 165 166 167 168 169 170 171 172 173 174 175 176 177 178 179\n",
      " 180 181 182 183 184 185 186 187 188 189 190 191 192 193 194 195 196 197\n",
      " 198 199 200 201 202 203 204 205 206 207 208 209 210 211 212 213 214 215\n",
      " 216 217 218 219 220 221 222 223 224 225 226 227 228 229 230 231 232 233\n",
      " 234 235 236 237 238 239 240 241 242 243 244 245 246 247 248 249 250 251\n",
      " 252 253 254 255 256 257 258 259 260 261 262 263 264 265 266 267 268 269\n",
      " 270 271 272 273 274 275 276 277 278 279 280 281 282 283 284 285 286 287\n",
      " 288 289 290 291 292 293 294 295 296 297 298 299 300 301 302 303 304 305\n",
      " 306 307 308 309 310 311 312 313 314 315 316 317 318 319 320 321 322 323\n",
      " 324 325 326 327 328 329 330 331 332 333 334 335 336 337 338 339 340 341\n",
      " 342 343 344 345 346 347 348 349 350 351 352 353 354 355 356 357 358 359\n",
      " 360 361 362 363 364 365 366 367 368 369 370 371 372 373 374 375 376 377\n",
      " 378 379 380 381 382 383 384 385 386 387 388 389 390 391 392 393 394 395\n",
      " 396 397 398 399 400 401 402 403 404 405 406 407 408 409 410 411 412 413\n",
      " 414 415 416 417 418 419 420 421 422 423 424 425 426 427 428 429 430 431\n",
      " 432 433 434 435 436 437 438 439 440 441 442 443 444 445 446 447 448 449\n",
      " 450 451 452 453 454 455 456 457 458 459 460 461 462 463 464 465 466 467\n",
      " 468 469 470 471 472 473 474 475 476 477 478 479 480 481 482 483 484 485\n",
      " 486 487 488 489 490 491 492 493 494 495 496 497 498 499]\n",
      "500\n"
     ]
    },
    {
     "data": {
      "text/html": [
       "<div>\n",
       "<style scoped>\n",
       "    .dataframe tbody tr th:only-of-type {\n",
       "        vertical-align: middle;\n",
       "    }\n",
       "\n",
       "    .dataframe tbody tr th {\n",
       "        vertical-align: top;\n",
       "    }\n",
       "\n",
       "    .dataframe thead th {\n",
       "        text-align: right;\n",
       "    }\n",
       "</style>\n",
       "<table border=\"1\" class=\"dataframe\">\n",
       "  <thead>\n",
       "    <tr style=\"text-align: right;\">\n",
       "      <th></th>\n",
       "      <th>sale_id</th>\n",
       "      <th>seller</th>\n",
       "      <th>buyer</th>\n",
       "      <th>offer_id</th>\n",
       "      <th>listing_price</th>\n",
       "      <th>maker_marketplace</th>\n",
       "      <th>updated_at_block</th>\n",
       "      <th>updated_at_time</th>\n",
       "      <th>created_at_block</th>\n",
       "      <th>created_at_time</th>\n",
       "      <th>ordinality</th>\n",
       "      <th>price.amount</th>\n",
       "      <th>price_wax</th>\n",
       "      <th>price_usd</th>\n",
       "    </tr>\n",
       "  </thead>\n",
       "  <tbody>\n",
       "    <tr>\n",
       "      <th>0</th>\n",
       "      <td>156164252</td>\n",
       "      <td>42krg.wam</td>\n",
       "      <td>22z2i.c.wam</td>\n",
       "      <td>162953636</td>\n",
       "      <td>4800000</td>\n",
       "      <td>NaN</td>\n",
       "      <td>309920387</td>\n",
       "      <td>2024-05-23 05:07:12</td>\n",
       "      <td>309836423</td>\n",
       "      <td>2024-05-22 17:27:30</td>\n",
       "      <td>1</td>\n",
       "      <td>4800000</td>\n",
       "      <td>0.04800</td>\n",
       "      <td>0.00309</td>\n",
       "    </tr>\n",
       "    <tr>\n",
       "      <th>1</th>\n",
       "      <td>156182005</td>\n",
       "      <td>v223i.c.wam</td>\n",
       "      <td>22z2i.c.wam</td>\n",
       "      <td>162976517</td>\n",
       "      <td>4704480</td>\n",
       "      <td>NaN</td>\n",
       "      <td>309920387</td>\n",
       "      <td>2024-05-23 05:07:12</td>\n",
       "      <td>309894937</td>\n",
       "      <td>2024-05-23 01:35:07</td>\n",
       "      <td>2</td>\n",
       "      <td>4704480</td>\n",
       "      <td>0.04704</td>\n",
       "      <td>0.00302</td>\n",
       "    </tr>\n",
       "    <tr>\n",
       "      <th>2</th>\n",
       "      <td>156027882</td>\n",
       "      <td>oekye.wam</td>\n",
       "      <td>22z2i.c.wam</td>\n",
       "      <td>162774921</td>\n",
       "      <td>4988800</td>\n",
       "      <td>market.nefty</td>\n",
       "      <td>309760790</td>\n",
       "      <td>2024-05-22 06:57:13</td>\n",
       "      <td>309344819</td>\n",
       "      <td>2024-05-19 21:10:48</td>\n",
       "      <td>3</td>\n",
       "      <td>4988800</td>\n",
       "      <td>0.04989</td>\n",
       "      <td>0.00321</td>\n",
       "    </tr>\n",
       "    <tr>\n",
       "      <th>3</th>\n",
       "      <td>156027891</td>\n",
       "      <td>oekye.wam</td>\n",
       "      <td>22z2i.c.wam</td>\n",
       "      <td>162774934</td>\n",
       "      <td>4988800</td>\n",
       "      <td>market.nefty</td>\n",
       "      <td>309760790</td>\n",
       "      <td>2024-05-22 06:57:13</td>\n",
       "      <td>309344851</td>\n",
       "      <td>2024-05-19 21:11:04</td>\n",
       "      <td>4</td>\n",
       "      <td>4988800</td>\n",
       "      <td>0.04989</td>\n",
       "      <td>0.00321</td>\n",
       "    </tr>\n",
       "    <tr>\n",
       "      <th>4</th>\n",
       "      <td>156027893</td>\n",
       "      <td>oekye.wam</td>\n",
       "      <td>22z2i.c.wam</td>\n",
       "      <td>162774938</td>\n",
       "      <td>4988800</td>\n",
       "      <td>market.nefty</td>\n",
       "      <td>309760790</td>\n",
       "      <td>2024-05-22 06:57:13</td>\n",
       "      <td>309344876</td>\n",
       "      <td>2024-05-19 21:11:16</td>\n",
       "      <td>5</td>\n",
       "      <td>4988800</td>\n",
       "      <td>0.04989</td>\n",
       "      <td>0.00321</td>\n",
       "    </tr>\n",
       "  </tbody>\n",
       "</table>\n",
       "</div>"
      ],
      "text/plain": [
       "     sale_id       seller        buyer   offer_id  listing_price  \\\n",
       "0  156164252    42krg.wam  22z2i.c.wam  162953636        4800000   \n",
       "1  156182005  v223i.c.wam  22z2i.c.wam  162976517        4704480   \n",
       "2  156027882    oekye.wam  22z2i.c.wam  162774921        4988800   \n",
       "3  156027891    oekye.wam  22z2i.c.wam  162774934        4988800   \n",
       "4  156027893    oekye.wam  22z2i.c.wam  162774938        4988800   \n",
       "\n",
       "  maker_marketplace  updated_at_block      updated_at_time  created_at_block  \\\n",
       "0               NaN         309920387  2024-05-23 05:07:12         309836423   \n",
       "1               NaN         309920387  2024-05-23 05:07:12         309894937   \n",
       "2      market.nefty         309760790  2024-05-22 06:57:13         309344819   \n",
       "3      market.nefty         309760790  2024-05-22 06:57:13         309344851   \n",
       "4      market.nefty         309760790  2024-05-22 06:57:13         309344876   \n",
       "\n",
       "       created_at_time  ordinality  price.amount  price_wax  price_usd  \n",
       "0  2024-05-22 17:27:30           1       4800000    0.04800    0.00309  \n",
       "1  2024-05-23 01:35:07           2       4704480    0.04704    0.00302  \n",
       "2  2024-05-19 21:10:48           3       4988800    0.04989    0.00321  \n",
       "3  2024-05-19 21:11:04           4       4988800    0.04989    0.00321  \n",
       "4  2024-05-19 21:11:16           5       4988800    0.04989    0.00321  "
      ]
     },
     "execution_count": 333,
     "metadata": {},
     "output_type": "execute_result"
    }
   ],
   "source": [
    "\n",
    "from sklearn.cluster import DBSCAN\n",
    "\n",
    "def dbscan_anomaly_detection(data, eps=0.5, min_samples=5):\n",
    "\n",
    "    # detekcia anomálií pomocou algoritmu DBSCAN\n",
    "    # parametre: data - numerické dáta,\n",
    "    #            eps - maximálna vzdialenosť medzi dvomi vzorkami\n",
    "    #            min_samples - minimálny počet vzoriek v okolí/susedstve\n",
    "    # vystupom je zoznam indexov anomálií\n",
    "\n",
    "    dbscan = DBSCAN(eps=eps, min_samples=min_samples)\n",
    "    \n",
    "    # fit_predict() vráti pole zhlukov, kde -1 znamená anomáliu\n",
    "    clusters = dbscan.fit_predict(data)\n",
    "    \n",
    "    anomalies = np.where(clusters == -1)[0]\n",
    "    return anomalies\n",
    "\n",
    "numerics_columns= df_of_data.select_dtypes(include='number').columns\n",
    "\n",
    "# odstránenie stĺpcov s chýbajúcimi hodnotami ktoré táto metoda nemôže spracovať\n",
    "df_numeric_only = df_of_data[numerics_columns]\n",
    "df_numeric_only = df_numeric_only.dropna(axis=1)\n",
    "\n",
    "data = df_numeric_only\n",
    "anomalies = dbscan_anomaly_detection(data)\n",
    "print(anomalies)  \n",
    "print(len(anomalies))\n",
    "df_of_data.iloc[anomalies].head()\n",
    " "
   ]
  },
  {
   "cell_type": "code",
   "execution_count": 334,
   "metadata": {},
   "outputs": [
    {
     "name": "stdout",
     "output_type": "stream",
     "text": [
      "\n",
      "Local Outlier Factor Outliers:\n",
      "[  0   1   2   3   4   5   6   7   8   9  10  11  12  13  14  15  16  17\n",
      "  18  19  20  21  22  39  40  41  42  55  63  64  65  66  67  68  69  72\n",
      "  73  74  75  76 143 154 155 157 158 159 261 262 263 264 265 266 282 283\n",
      " 284 285 286 287 288 289 290 291 292 296 298 452 453 454 455 456 457 458\n",
      " 459 460 461 462 476 497]\n",
      "78\n"
     ]
    },
    {
     "data": {
      "text/html": [
       "<div>\n",
       "<style scoped>\n",
       "    .dataframe tbody tr th:only-of-type {\n",
       "        vertical-align: middle;\n",
       "    }\n",
       "\n",
       "    .dataframe tbody tr th {\n",
       "        vertical-align: top;\n",
       "    }\n",
       "\n",
       "    .dataframe thead th {\n",
       "        text-align: right;\n",
       "    }\n",
       "</style>\n",
       "<table border=\"1\" class=\"dataframe\">\n",
       "  <thead>\n",
       "    <tr style=\"text-align: right;\">\n",
       "      <th></th>\n",
       "      <th>sale_id</th>\n",
       "      <th>seller</th>\n",
       "      <th>buyer</th>\n",
       "      <th>offer_id</th>\n",
       "      <th>listing_price</th>\n",
       "      <th>maker_marketplace</th>\n",
       "      <th>updated_at_block</th>\n",
       "      <th>updated_at_time</th>\n",
       "      <th>created_at_block</th>\n",
       "      <th>created_at_time</th>\n",
       "      <th>ordinality</th>\n",
       "      <th>price.amount</th>\n",
       "      <th>price_wax</th>\n",
       "      <th>price_usd</th>\n",
       "    </tr>\n",
       "  </thead>\n",
       "  <tbody>\n",
       "    <tr>\n",
       "      <th>0</th>\n",
       "      <td>156164252</td>\n",
       "      <td>42krg.wam</td>\n",
       "      <td>22z2i.c.wam</td>\n",
       "      <td>162953636</td>\n",
       "      <td>4800000</td>\n",
       "      <td>NaN</td>\n",
       "      <td>309920387</td>\n",
       "      <td>2024-05-23 05:07:12</td>\n",
       "      <td>309836423</td>\n",
       "      <td>2024-05-22 17:27:30</td>\n",
       "      <td>1</td>\n",
       "      <td>4800000</td>\n",
       "      <td>0.04800</td>\n",
       "      <td>0.00309</td>\n",
       "    </tr>\n",
       "    <tr>\n",
       "      <th>1</th>\n",
       "      <td>156182005</td>\n",
       "      <td>v223i.c.wam</td>\n",
       "      <td>22z2i.c.wam</td>\n",
       "      <td>162976517</td>\n",
       "      <td>4704480</td>\n",
       "      <td>NaN</td>\n",
       "      <td>309920387</td>\n",
       "      <td>2024-05-23 05:07:12</td>\n",
       "      <td>309894937</td>\n",
       "      <td>2024-05-23 01:35:07</td>\n",
       "      <td>2</td>\n",
       "      <td>4704480</td>\n",
       "      <td>0.04704</td>\n",
       "      <td>0.00302</td>\n",
       "    </tr>\n",
       "    <tr>\n",
       "      <th>2</th>\n",
       "      <td>156027882</td>\n",
       "      <td>oekye.wam</td>\n",
       "      <td>22z2i.c.wam</td>\n",
       "      <td>162774921</td>\n",
       "      <td>4988800</td>\n",
       "      <td>market.nefty</td>\n",
       "      <td>309760790</td>\n",
       "      <td>2024-05-22 06:57:13</td>\n",
       "      <td>309344819</td>\n",
       "      <td>2024-05-19 21:10:48</td>\n",
       "      <td>3</td>\n",
       "      <td>4988800</td>\n",
       "      <td>0.04989</td>\n",
       "      <td>0.00321</td>\n",
       "    </tr>\n",
       "    <tr>\n",
       "      <th>3</th>\n",
       "      <td>156027891</td>\n",
       "      <td>oekye.wam</td>\n",
       "      <td>22z2i.c.wam</td>\n",
       "      <td>162774934</td>\n",
       "      <td>4988800</td>\n",
       "      <td>market.nefty</td>\n",
       "      <td>309760790</td>\n",
       "      <td>2024-05-22 06:57:13</td>\n",
       "      <td>309344851</td>\n",
       "      <td>2024-05-19 21:11:04</td>\n",
       "      <td>4</td>\n",
       "      <td>4988800</td>\n",
       "      <td>0.04989</td>\n",
       "      <td>0.00321</td>\n",
       "    </tr>\n",
       "    <tr>\n",
       "      <th>4</th>\n",
       "      <td>156027893</td>\n",
       "      <td>oekye.wam</td>\n",
       "      <td>22z2i.c.wam</td>\n",
       "      <td>162774938</td>\n",
       "      <td>4988800</td>\n",
       "      <td>market.nefty</td>\n",
       "      <td>309760790</td>\n",
       "      <td>2024-05-22 06:57:13</td>\n",
       "      <td>309344876</td>\n",
       "      <td>2024-05-19 21:11:16</td>\n",
       "      <td>5</td>\n",
       "      <td>4988800</td>\n",
       "      <td>0.04989</td>\n",
       "      <td>0.00321</td>\n",
       "    </tr>\n",
       "  </tbody>\n",
       "</table>\n",
       "</div>"
      ],
      "text/plain": [
       "     sale_id       seller        buyer   offer_id  listing_price  \\\n",
       "0  156164252    42krg.wam  22z2i.c.wam  162953636        4800000   \n",
       "1  156182005  v223i.c.wam  22z2i.c.wam  162976517        4704480   \n",
       "2  156027882    oekye.wam  22z2i.c.wam  162774921        4988800   \n",
       "3  156027891    oekye.wam  22z2i.c.wam  162774934        4988800   \n",
       "4  156027893    oekye.wam  22z2i.c.wam  162774938        4988800   \n",
       "\n",
       "  maker_marketplace  updated_at_block      updated_at_time  created_at_block  \\\n",
       "0               NaN         309920387  2024-05-23 05:07:12         309836423   \n",
       "1               NaN         309920387  2024-05-23 05:07:12         309894937   \n",
       "2      market.nefty         309760790  2024-05-22 06:57:13         309344819   \n",
       "3      market.nefty         309760790  2024-05-22 06:57:13         309344851   \n",
       "4      market.nefty         309760790  2024-05-22 06:57:13         309344876   \n",
       "\n",
       "       created_at_time  ordinality  price.amount  price_wax  price_usd  \n",
       "0  2024-05-22 17:27:30           1       4800000    0.04800    0.00309  \n",
       "1  2024-05-23 01:35:07           2       4704480    0.04704    0.00302  \n",
       "2  2024-05-19 21:10:48           3       4988800    0.04989    0.00321  \n",
       "3  2024-05-19 21:11:04           4       4988800    0.04989    0.00321  \n",
       "4  2024-05-19 21:11:16           5       4988800    0.04989    0.00321  "
      ]
     },
     "execution_count": 334,
     "metadata": {},
     "output_type": "execute_result"
    }
   ],
   "source": [
    "from sklearn.neighbors import LocalOutlierFactor\n",
    "\n",
    "def detect_anomalies_lof(X, n_neighbors=20, contamination='auto'):\n",
    "\n",
    "    # detekcia anomálií pomocou algoritmu Local Outlier Factor\n",
    "    # parametre: X - numerické dáta,\n",
    "    #            n_neighbors - počet susedov, ktorý sa použije pri určovaní lokálnej hustoty\n",
    "    #            contamination - pomer odhadovaných anomálií v dátach\n",
    "    # vystupom je zoznam indexov anomálií\n",
    "\n",
    "    clf = LocalOutlierFactor(n_neighbors=n_neighbors, contamination=contamination)\n",
    "    y_pred = clf.fit_predict(X)\n",
    "    outliers = np.where(y_pred == -1)[0]\n",
    "\n",
    "    return outliers\n",
    "\n",
    "X = df_of_data[[\"price.amount\"]].values\n",
    "lof_outliers = detect_anomalies_lof(X)\n",
    "print(\"\\nLocal Outlier Factor Outliers:\")\n",
    "print(lof_outliers)\n",
    "print(len(lof_outliers))\n",
    "df_of_data.iloc[lof_outliers].head()"
   ]
  },
  {
   "cell_type": "markdown",
   "metadata": {},
   "source": [
    "zobrazenia"
   ]
  },
  {
   "cell_type": "code",
   "execution_count": 335,
   "metadata": {},
   "outputs": [
    {
     "name": "stdout",
     "output_type": "stream",
     "text": [
      "Index(['sale_id', 'offer_id', 'listing_price', 'updated_at_block',\n",
      "       'created_at_block', 'ordinality', 'price.amount', 'price_wax',\n",
      "       'price_usd'],\n",
      "      dtype='object')\n"
     ]
    },
    {
     "data": {
      "image/png": "[encoded data removed]",
      "text/plain": [
       "<Figure size 1500x600 with 20 Axes>"
      ]
     },
     "metadata": {},
     "output_type": "display_data"
    }
   ],
   "source": [
    "# zobrazenie histogramov numerických dát\n",
    "\n",
    "numerics = df_of_data.select_dtypes(include='number').columns\n",
    "print(numerics)\n",
    "len(numerics)\n",
    "df_of_data[numerics].hist(bins=15, figsize=(15, 6), layout=(5, 4))\n",
    "plt.tight_layout()\n",
    "plt.show()"
   ]
  },
  {
   "cell_type": "code",
   "execution_count": 336,
   "metadata": {},
   "outputs": [
    {
     "data": {
      "image/png": "[encoded data removed]",
      "text/plain": [
       "<Figure size 1500x1000 with 12 Axes>"
      ]
     },
     "metadata": {},
     "output_type": "display_data"
    }
   ],
   "source": [
    "# zobrazenie boxplotov numerických dát\n",
    "df_of_data[numerics].plot(kind='box', subplots=True, layout=(4, 3), sharex=False, sharey=False, figsize=(15, 10))\n",
    "plt.show()"
   ]
  },
  {
   "cell_type": "code",
   "execution_count": 337,
   "metadata": {},
   "outputs": [
    {
     "name": "stdout",
     "output_type": "stream",
     "text": [
      "Index([], dtype='object')\n"
     ]
    }
   ],
   "source": [
    "# zobrazenie korelačnej matice a výber stĺpcov s koreláciou väčšou ako 0.1\n",
    "df = df_of_data\n",
    "df[numerics].corr()\n",
    "df[numerics].var()[df[numerics].var() > 0.1].index\n",
    "\n",
    "df[numerics].var()[df[numerics].var() == 0].index\n",
    "constant_columns = df[numerics].var()[df[numerics].var() == 0].index\n",
    "print(constant_columns)"
   ]
  },
  {
   "cell_type": "code",
   "execution_count": 338,
   "metadata": {},
   "outputs": [
    {
     "name": "stdout",
     "output_type": "stream",
     "text": [
      "Index(['sale_id', 'offer_id', 'listing_price', 'updated_at_block',\n",
      "       'created_at_block', 'ordinality', 'price.amount', 'price_wax',\n",
      "       'price_usd'],\n",
      "      dtype='object')\n"
     ]
    },
    {
     "data": {
      "image/png": "[encoded data removed]",
      "text/plain": [
       "<Figure size 1500x600 with 2 Axes>"
      ]
     },
     "metadata": {},
     "output_type": "display_data"
    }
   ],
   "source": [
    "# zobrazenie korelačnej matice\n",
    "\n",
    "plt.figure(figsize=(15, 6))\n",
    "numerics = df.select_dtypes(include='number').columns\n",
    "\n",
    "# vytvorenie korelačnej matice\n",
    "df_subset_corr = df[numerics].copy()\n",
    "print(df[numerics].columns)\n",
    "df_subset_corr.drop(columns=['listing_price', 'ordinality', 'price_wax', 'price_usd'], inplace=True)\n",
    "\n",
    "corr = df_subset_corr.corr()\n",
    "\n",
    "#zamaskovanie hornej časti matice\n",
    "mask = np.zeros_like(corr)\n",
    "mask[np.triu_indices_from(mask)] = True\n",
    "sns.heatmap(corr, mask=mask, annot=True, vmin=-1, vmax=1, cmap='coolwarm')  \n",
    "plt.show()\n"
   ]
  },
  {
   "cell_type": "code",
   "execution_count": 339,
   "metadata": {},
   "outputs": [
    {
     "data": {
      "image/png": "[encoded data removed]",
      "text/plain": [
       "<Figure size 1500x600 with 1 Axes>"
      ]
     },
     "metadata": {},
     "output_type": "display_data"
    }
   ],
   "source": [
    "# vizualne zobrazenie dat s prázdnymi hodnotami\n",
    "\n",
    "plt.figure(figsize=(15, 6))\n",
    "sns.heatmap(df.isnull(), cbar=False, cmap='viridis')\n",
    "plt.yticks([])\n",
    "plt.show()"
   ]
  },
  {
   "cell_type": "code",
   "execution_count": 340,
   "metadata": {},
   "outputs": [
    {
     "name": "stdout",
     "output_type": "stream",
     "text": [
      "0\n",
      "0\n"
     ]
    },
    {
     "name": "stderr",
     "output_type": "stream",
     "text": [
      "C:\\Users\\biank\\AppData\\Local\\Temp\\ipykernel_29160\\3404596224.py:9: SettingWithCopyWarning:\n",
      "\n",
      "\n",
      "A value is trying to be set on a copy of a slice from a DataFrame\n",
      "\n",
      "See the caveats in the documentation: https://pandas.pydata.org/pandas-docs/stable/user_guide/indexing.html#returning-a-view-versus-a-copy\n",
      "\n",
      "C:\\Users\\biank\\AppData\\Local\\Temp\\ipykernel_29160\\3404596224.py:10: SettingWithCopyWarning:\n",
      "\n",
      "\n",
      "A value is trying to be set on a copy of a slice from a DataFrame\n",
      "\n",
      "See the caveats in the documentation: https://pandas.pydata.org/pandas-docs/stable/user_guide/indexing.html#returning-a-view-versus-a-copy\n",
      "\n"
     ]
    }
   ],
   "source": [
    "rows_count = df.isnull().any(axis=1).sum()\n",
    "rows_count_without_missing_val = df.shape[0] - rows_count\n",
    "\n",
    "df_without_missing = df.dropna()    \n",
    "#df_without_missing = df[~df.isnull().any(axis=1)]\n",
    "df_with_missing = df[df.isnull().any(axis=1)]\n",
    "\n",
    "#drop from each column the rows with missing values\n",
    "df_with_missing.drop(columns='maker_marketplace', inplace=True)\n",
    "df_without_missing.drop(columns='maker_marketplace', inplace=True)\n",
    "print(df_with_missing.isnull().any(axis=1).sum())\n",
    "print(df_without_missing.isnull().any(axis=1).sum())\n",
    "\n",
    "#df_without_missing.head(rows_count_without_missing_val)\n"
   ]
  },
  {
   "cell_type": "markdown",
   "metadata": {},
   "source": [
    "Isolation forest"
   ]
  },
  {
   "cell_type": "code",
   "execution_count": 341,
   "metadata": {},
   "outputs": [
    {
     "name": "stdout",
     "output_type": "stream",
     "text": [
      "outlier\n",
      " 1    450\n",
      "-1     50\n",
      "Name: count, dtype: int64\n",
      "50\n"
     ]
    }
   ],
   "source": [
    "from sklearn.ensemble import IsolationForest\n",
    "\n",
    "def izolacnyles(data, contamination=0.1):\n",
    "    # detekcia anomálií pomocou algoritmu Isolation Forest\n",
    "    # parametre: data - numerické dáta,\n",
    "    #            contamination - pomer odhadovaných anomálií v dátach\n",
    "    # vystupom je zoznam indexov anomálií\n",
    "    \n",
    "    model = IsolationForest(n_estimators=100, contamination=0.1, random_state=44)   \n",
    "    model.fit(data)\n",
    "    outliers = model.predict(data)\n",
    "    return outliers\n",
    "\n",
    "data = df_of_data[[\"price.amount\"]].values\n",
    "df_isolation_1 = df_of_data.copy()\n",
    "df_isolation_1['outlier'] = izolacnyles(data)\n",
    "print(df_isolation_1['outlier'].value_counts())\n",
    "\n",
    "# zobrazenie anomálií\n",
    "anomalies = df_isolation_1[df_isolation_1['outlier'] == -1]     # -1 znamená anomáliu\n",
    "anomalies\n",
    "print(len(anomalies))\n"
   ]
  },
  {
   "cell_type": "code",
   "execution_count": 342,
   "metadata": {},
   "outputs": [
    {
     "data": {
      "image/png": "[encoded data removed]",
      "text/plain": [
       "<Figure size 1000x600 with 1 Axes>"
      ]
     },
     "metadata": {},
     "output_type": "display_data"
    }
   ],
   "source": [
    "# zobrazenie scatterplotu s anomáliami\n",
    "plt.figure(figsize=(10, 6))\n",
    "sns.scatterplot(x='updated_at_time', y='price.amount', hue='outlier', data=df_isolation_1, palette='viridis')\n",
    "plt.xlabel('Time ')\n",
    "plt.ylabel('Price')\n",
    "plt.title('Anomaly Detection')\n",
    "plt.show()"
   ]
  },
  {
   "cell_type": "markdown",
   "metadata": {},
   "source": [
    "nasleduju rozne variacie isolation forest a ich zobrazenia"
   ]
  },
  {
   "cell_type": "code",
   "execution_count": 343,
   "metadata": {},
   "outputs": [
    {
     "name": "stdout",
     "output_type": "stream",
     "text": [
      "(5, 4)\n",
      "     updated_at_block  created_at_block  price.amount  outlier\n",
      "12          309285578         307120080      59900000       -1\n",
      "16          309245634         299941074       5000000       -1\n",
      "22          309187430         299941074       5000000       -1\n",
      "144         305974499         305901053     120000000       -1\n",
      "497         303909189         303892018   20000000000       -1\n"
     ]
    },
    {
     "data": {
      "image/png": "[encoded data removed]",
      "text/plain": [
       "<Figure size 813.75x750 with 12 Axes>"
      ]
     },
     "metadata": {},
     "output_type": "display_data"
    }
   ],
   "source": [
    "# pristupenie len ku subsetu numerickych stlpcov\n",
    "\n",
    "from sklearn.ensemble import IsolationForest\n",
    "\n",
    "df_isolation_2 = df[numerics].copy()\n",
    "df_isolation_2.drop(columns=['offer_id', 'sale_id', 'listing_price', 'ordinality', 'price_wax', 'price_usd'], inplace=True)\n",
    "\n",
    "isolation_forest = IsolationForest(n_estimators=100, contamination=0.01, random_state=44)\n",
    "\n",
    "isolation_forest.fit(df_isolation_2)\n",
    "\n",
    "outliers = isolation_forest.predict(df_isolation_2)\n",
    "\n",
    "df_isolation_2['outlier'] = outliers\n",
    "\n",
    "anomalies = df_isolation_2[df_isolation_2['outlier'] == -1] # -1 indicates an outlier\n",
    "\n",
    "print(anomalies.shape)\n",
    "print(anomalies)\n",
    "\n",
    "#pairplot \n",
    "sns.pairplot(df_isolation_2, hue='outlier', palette='viridis')\n",
    "plt.show()"
   ]
  },
  {
   "cell_type": "code",
   "execution_count": 346,
   "metadata": {},
   "outputs": [
    {
     "data": {
      "text/html": [
       "<div>\n",
       "<style scoped>\n",
       "    .dataframe tbody tr th:only-of-type {\n",
       "        vertical-align: middle;\n",
       "    }\n",
       "\n",
       "    .dataframe tbody tr th {\n",
       "        vertical-align: top;\n",
       "    }\n",
       "\n",
       "    .dataframe thead th {\n",
       "        text-align: right;\n",
       "    }\n",
       "</style>\n",
       "<table border=\"1\" class=\"dataframe\">\n",
       "  <thead>\n",
       "    <tr style=\"text-align: right;\">\n",
       "      <th></th>\n",
       "      <th>sale_id</th>\n",
       "      <th>seller</th>\n",
       "      <th>buyer</th>\n",
       "      <th>offer_id</th>\n",
       "      <th>listing_price</th>\n",
       "      <th>maker_marketplace</th>\n",
       "      <th>updated_at_block</th>\n",
       "      <th>updated_at_time</th>\n",
       "      <th>created_at_block</th>\n",
       "      <th>created_at_time</th>\n",
       "      <th>ordinality</th>\n",
       "      <th>price.amount</th>\n",
       "      <th>price_wax</th>\n",
       "      <th>price_usd</th>\n",
       "      <th>time_diff</th>\n",
       "      <th>time_diff_sec</th>\n",
       "      <th>anomaly</th>\n",
       "    </tr>\n",
       "  </thead>\n",
       "  <tbody>\n",
       "    <tr>\n",
       "      <th>16</th>\n",
       "      <td>153782811</td>\n",
       "      <td>s1.iq.wam</td>\n",
       "      <td>22z2i.c.wam</td>\n",
       "      <td>159865267</td>\n",
       "      <td>5000000</td>\n",
       "      <td>NaN</td>\n",
       "      <td>309245634</td>\n",
       "      <td>2024-05-19 07:24:14</td>\n",
       "      <td>299941074</td>\n",
       "      <td>2024-03-26 10:02:21</td>\n",
       "      <td>17</td>\n",
       "      <td>5000000</td>\n",
       "      <td>0.05</td>\n",
       "      <td>0.00322</td>\n",
       "      <td>53 days 21:21:53</td>\n",
       "      <td>4656113.0</td>\n",
       "      <td>-1</td>\n",
       "    </tr>\n",
       "    <tr>\n",
       "      <th>22</th>\n",
       "      <td>153782810</td>\n",
       "      <td>s1.iq.wam</td>\n",
       "      <td>22z2i.c.wam</td>\n",
       "      <td>159865266</td>\n",
       "      <td>5000000</td>\n",
       "      <td>NaN</td>\n",
       "      <td>309187430</td>\n",
       "      <td>2024-05-18 23:19:12</td>\n",
       "      <td>299941074</td>\n",
       "      <td>2024-03-26 10:02:21</td>\n",
       "      <td>23</td>\n",
       "      <td>5000000</td>\n",
       "      <td>0.05</td>\n",
       "      <td>0.00322</td>\n",
       "      <td>53 days 13:16:51</td>\n",
       "      <td>4627011.0</td>\n",
       "      <td>-1</td>\n",
       "    </tr>\n",
       "    <tr>\n",
       "      <th>497</th>\n",
       "      <td>154749451</td>\n",
       "      <td>ds3jy.wam</td>\n",
       "      <td>3.g2c.c.wam</td>\n",
       "      <td>161074404</td>\n",
       "      <td>20000000000</td>\n",
       "      <td>NaN</td>\n",
       "      <td>303909189</td>\n",
       "      <td>2024-04-18 10:11:05</td>\n",
       "      <td>303892018</td>\n",
       "      <td>2024-04-18 07:48:00</td>\n",
       "      <td>98</td>\n",
       "      <td>20000000000</td>\n",
       "      <td>200.00</td>\n",
       "      <td>12.86000</td>\n",
       "      <td>0 days 02:23:05</td>\n",
       "      <td>8585.0</td>\n",
       "      <td>-1</td>\n",
       "    </tr>\n",
       "  </tbody>\n",
       "</table>\n",
       "</div>"
      ],
      "text/plain": [
       "       sale_id     seller        buyer   offer_id  listing_price  \\\n",
       "16   153782811  s1.iq.wam  22z2i.c.wam  159865267        5000000   \n",
       "22   153782810  s1.iq.wam  22z2i.c.wam  159865266        5000000   \n",
       "497  154749451  ds3jy.wam  3.g2c.c.wam  161074404    20000000000   \n",
       "\n",
       "    maker_marketplace  updated_at_block     updated_at_time  created_at_block  \\\n",
       "16                NaN         309245634 2024-05-19 07:24:14         299941074   \n",
       "22                NaN         309187430 2024-05-18 23:19:12         299941074   \n",
       "497               NaN         303909189 2024-04-18 10:11:05         303892018   \n",
       "\n",
       "        created_at_time  ordinality  price.amount  price_wax  price_usd  \\\n",
       "16  2024-03-26 10:02:21          17       5000000       0.05    0.00322   \n",
       "22  2024-03-26 10:02:21          23       5000000       0.05    0.00322   \n",
       "497 2024-04-18 07:48:00          98   20000000000     200.00   12.86000   \n",
       "\n",
       "           time_diff  time_diff_sec  anomaly  \n",
       "16  53 days 21:21:53      4656113.0       -1  \n",
       "22  53 days 13:16:51      4627011.0       -1  \n",
       "497  0 days 02:23:05         8585.0       -1  "
      ]
     },
     "execution_count": 346,
     "metadata": {},
     "output_type": "execute_result"
    }
   ],
   "source": [
    "# pristup ku datam a vytvorenie stlpca time_diff\n",
    "\n",
    "from sklearn.ensemble import IsolationForest\n",
    "\n",
    "df_isolation_3 = df_of_data.copy()\n",
    "\n",
    "df_isolation_3['updated_at_time'] = pd.to_datetime(df_isolation_3['updated_at_time'])\n",
    "df_isolation_3['created_at_time'] = pd.to_datetime(df_isolation_3['created_at_time'])\n",
    "df_isolation_3['time_diff'] = df_isolation_3['updated_at_time'] - df_isolation_3['created_at_time']\n",
    "\n",
    "# prevod stlpca time_diff na sekundy\n",
    "df_isolation_3['time_diff_sec'] = df_isolation_3['time_diff'].dt.total_seconds()\n",
    "\n",
    "model = IsolationForest(contamination=0.01)  \n",
    "\n",
    "model.fit(df_isolation_3[['price.amount', 'time_diff_sec']])\n",
    "\n",
    "df_isolation_3['anomaly'] = model.predict(df_isolation_3[['price.amount', 'time_diff_sec']])\n",
    "\n",
    "anomalies = df_isolation_3[df_isolation_3['anomaly'] == -1]\n",
    "anomalies"
   ]
  },
  {
   "cell_type": "code",
   "execution_count": 348,
   "metadata": {},
   "outputs": [
    {
     "data": {
      "image/png": "[encoded data removed]",
      "text/plain": [
       "<Figure size 1000x600 with 1 Axes>"
      ]
     },
     "metadata": {},
     "output_type": "display_data"
    },
    {
     "name": "stdout",
     "output_type": "stream",
     "text": [
      "    market_contract assets_contract    sale_id       seller         buyer  \\\n",
      "12     atomicmarket    atomicassets  155483848  qzi2k.c.wam  toonnueadeaw   \n",
      "13     atomicmarket    atomicassets  155336952    qzcio.wam  toonnueadeaw   \n",
      "14     atomicmarket    atomicassets  155336627    l3jzs.wam  toonnueadeaw   \n",
      "144    atomicmarket    atomicassets  155178886  qzi2k.c.wam  toondeawnuea   \n",
      "497    atomicmarket    atomicassets  154749451    ds3jy.wam   3.g2c.c.wam   \n",
      "\n",
      "      offer_id  listing_price listing_symbol maker_marketplace  \\\n",
      "12   162042427       59900000            WAX               NaN   \n",
      "13   161849058       59900000            WAX               NaN   \n",
      "14   161848725       54900000            WAX               NaN   \n",
      "144  161660150      120000000            WAX               NaN   \n",
      "497  161074404    20000000000            WAX               NaN   \n",
      "\n",
      "     taker_marketplace  ... collection.allow_notify  \\\n",
      "12                 NaN  ...                    True   \n",
      "13                 NaN  ...                    True   \n",
      "14                 NaN  ...                    True   \n",
      "144                NaN  ...                    True   \n",
      "497                NaN  ...                    True   \n",
      "\n",
      "                        collection.authorized_accounts  \\\n",
      "12   ['.jieg.wam', 'farmersworld', 'atomicdropsx', ...   \n",
      "13   ['.jieg.wam', 'farmersworld', 'atomicdropsx', ...   \n",
      "14   ['.jieg.wam', 'farmersworld', 'atomicdropsx', ...   \n",
      "144  ['.jieg.wam', 'farmersworld', 'atomicdropsx', ...   \n",
      "497  ['.jieg.wam', 'farmersworld', 'atomicdropsx', ...   \n",
      "\n",
      "     collection.notify_accounts collection.market_fee  \\\n",
      "12                           []                  0.05   \n",
      "13                           []                  0.05   \n",
      "14                           []                  0.05   \n",
      "144                          []                  0.05   \n",
      "497                          []                  0.05   \n",
      "\n",
      "     collection.created_at_block collection.created_at_time  price_wax  \\\n",
      "12                     123762633              1623323058000      0.599   \n",
      "13                     123762633              1623323058000      0.599   \n",
      "14                     123762633              1623323058000      0.549   \n",
      "144                    123762633              1623323058000      1.200   \n",
      "497                    123762633              1623323058000    200.000   \n",
      "\n",
      "     price_usd       time anomaly  \n",
      "12     0.03852  2762377.0       1  \n",
      "13     0.03852  2762323.0       1  \n",
      "14     0.03530  2762296.0       1  \n",
      "144    0.07716  1106745.0       1  \n",
      "497   12.86000    74016.0       1  \n",
      "\n",
      "[5 rows x 38 columns]\n",
      "number of anomalies anomaly\n",
      "0    495\n",
      "1      5\n",
      "Name: count, dtype: int64\n",
      "percentage of anomalies anomaly\n",
      "0    0.99\n",
      "1    0.01\n",
      "Name: proportion, dtype: float64\n"
     ]
    }
   ],
   "source": [
    "# trenovanie modelu na základe ceny a času\n",
    "\n",
    "from sklearn.ensemble import IsolationForest\n",
    "\n",
    "df_isolation_4 = pd.read_csv('concated_2_farmersworld_data.csv')\n",
    "df_isolation_4['updated_at_time'] = pd.to_datetime(df_isolation_4['updated_at_time'])\n",
    "df_isolation_4['created_at_time'] = pd.to_datetime(df_isolation_4['created_at_time'])\n",
    "\n",
    "reference_point = df_isolation_4['updated_at_time'].min()\n",
    "\n",
    "df_isolation_4['time'] = (df_isolation_4['updated_at_time'] - reference_point).dt.total_seconds()\n",
    "\n",
    "model = IsolationForest(contamination=0.01)\n",
    "\n",
    "model.fit(df_isolation_4[['price.amount', 'time']]) \n",
    "\n",
    "df_isolation_4['anomaly'] = model.predict(df_isolation_4[['price.amount', 'time']])\n",
    "df_isolation_4['anomaly'] = df_isolation_4['anomaly'].map({1: 0, -1: 1})\n",
    "\n",
    "plt.figure(figsize=(10, 6))\n",
    "sns.scatterplot(x='updated_at_time', y='price.amount', hue='anomaly', data=df_isolation_4)\n",
    "plt.xlabel('Time ')\n",
    "plt.ylabel('Price')\n",
    "plt.title('Anomaly Detection')\n",
    "plt.show()\n",
    "\n",
    "\n",
    "print(df_isolation_4[df_isolation_4['anomaly'] == 1])\n",
    "print(\"number of anomalies\", df_isolation_4['anomaly'].value_counts())\n",
    "print(\"percentage of anomalies\", df_isolation_4['anomaly'].value_counts(normalize=True))"
   ]
  },
  {
   "cell_type": "markdown",
   "metadata": {},
   "source": [
    "interaktivne zobrazenie dat"
   ]
  },
  {
   "cell_type": "code",
   "execution_count": 349,
   "metadata": {},
   "outputs": [
    {
     "data": {
      "application/vnd.plotly.v1+json": {
       "config": {
        "plotlyServerURL": "https://plot.ly"
       },
       "data": [
        {
         "customdata": [
          [
           "22z2i.c.wam",
           "42krg.wam",
           "2024-05-23 05:07:12"
          ],
          [
           "22z2i.c.wam",
           "v223i.c.wam",
           "2024-05-23 05:07:12"
          ],
          [
           "22z2i.c.wam",
           "oekye.wam",
           "2024-05-22 06:57:13"
          ],
          [
           "22z2i.c.wam",
           "oekye.wam",
           "2024-05-22 06:57:13"
          ],
          [
           "22z2i.c.wam",
           "oekye.wam",
           "2024-05-22 06:57:13"
          ],
          [
           "22z2i.c.wam",
           "dwe2o.c.wam",
           "2024-05-22 06:57:13"
          ],
          [
           "22z2i.c.wam",
           "dwe2o.c.wam",
           "2024-05-22 06:57:13"
          ],
          [
           "22z2i.c.wam",
           "dwe2o.c.wam",
           "2024-05-22 06:57:13"
          ],
          [
           "22z2i.c.wam",
           "dwe2o.c.wam",
           "2024-05-22 06:57:13"
          ],
          [
           "22z2i.c.wam",
           "42krg.wam",
           "2024-05-22 06:57:13"
          ],
          [
           "22z2i.c.wam",
           "42krg.wam",
           "2024-05-22 06:57:13"
          ],
          [
           "22z2i.c.wam",
           "oekye.wam",
           "2024-05-22 06:57:13"
          ],
          [
           "toonnueadeaw",
           "qzi2k.c.wam",
           "2024-05-19 12:57:06"
          ],
          [
           "toonnueadeaw",
           "qzcio.wam",
           "2024-05-19 12:56:12"
          ],
          [
           "toonnueadeaw",
           "l3jzs.wam",
           "2024-05-19 12:55:45"
          ],
          [
           "toonnueadeaw",
           "garmi.c.wam",
           "2024-05-19 12:55:13"
          ],
          [
           "22z2i.c.wam",
           "s1.iq.wam",
           "2024-05-19 07:24:14"
          ],
          [
           "22z2i.c.wam",
           "s1.iq.wam",
           "2024-05-19 07:24:14"
          ],
          [
           "22z2i.c.wam",
           "s1.iq.wam",
           "2024-05-19 07:24:14"
          ],
          [
           "22z2i.c.wam",
           "s1.iq.wam",
           "2024-05-19 07:24:14"
          ],
          [
           "22z2i.c.wam",
           "s1.iq.wam",
           "2024-05-19 07:24:14"
          ],
          [
           "22z2i.c.wam",
           "s1.iq.wam",
           "2024-05-19 07:24:14"
          ],
          [
           "22z2i.c.wam",
           "s1.iq.wam",
           "2024-05-18 23:19:12"
          ],
          [
           "22z2i.c.wam",
           "susgodsavage",
           "2024-05-18 23:19:12"
          ],
          [
           "22z2i.c.wam",
           "susgodsavage",
           "2024-05-18 23:19:12"
          ],
          [
           "22z2i.c.wam",
           "susgodsavage",
           "2024-05-18 23:19:12"
          ],
          [
           "22z2i.c.wam",
           "susgodsavage",
           "2024-05-18 23:19:12"
          ],
          [
           "22z2i.c.wam",
           "susgodsavage",
           "2024-05-18 03:18:09"
          ],
          [
           "22z2i.c.wam",
           "susgodsavage",
           "2024-05-18 03:18:09"
          ],
          [
           "22z2i.c.wam",
           "susgodsavage",
           "2024-05-18 03:18:09"
          ],
          [
           "22z2i.c.wam",
           "susgodsavage",
           "2024-05-18 03:18:09"
          ],
          [
           "22z2i.c.wam",
           "ow2z2.wam",
           "2024-05-18 03:18:09"
          ],
          [
           "22z2i.c.wam",
           "oekye.wam",
           "2024-05-18 03:18:09"
          ],
          [
           "22z2i.c.wam",
           "oekye.wam",
           "2024-05-18 03:18:09"
          ],
          [
           "22z2i.c.wam",
           "x45s2xexgh3p",
           "2024-05-16 22:00:13"
          ],
          [
           "22z2i.c.wam",
           "v223i.c.wam",
           "2024-05-16 22:00:13"
          ],
          [
           "22z2i.c.wam",
           "dwe2o.c.wam",
           "2024-05-16 22:00:13"
          ],
          [
           "22z2i.c.wam",
           "dwe2o.c.wam",
           "2024-05-16 22:00:13"
          ],
          [
           "22z2i.c.wam",
           "dwe2o.c.wam",
           "2024-05-16 22:00:13"
          ],
          [
           "22z2i.c.wam",
           "oekye.wam",
           "2024-05-16 22:00:13"
          ],
          [
           "22z2i.c.wam",
           "oekye.wam",
           "2024-05-16 22:00:13"
          ],
          [
           "22z2i.c.wam",
           "dwe2o.c.wam",
           "2024-05-16 22:00:13"
          ],
          [
           "22z2i.c.wam",
           "dwe2o.c.wam",
           "2024-05-16 22:00:13"
          ],
          [
           "22z2i.c.wam",
           "kk2.k.c.wam",
           "2024-05-16 06:42:39"
          ],
          [
           "22z2i.c.wam",
           "hxoky.c.wam",
           "2024-05-16 06:42:39"
          ],
          [
           "22z2i.c.wam",
           "hxoky.c.wam",
           "2024-05-16 06:42:39"
          ],
          [
           "22z2i.c.wam",
           "hxoky.c.wam",
           "2024-05-16 06:42:39"
          ],
          [
           "22z2i.c.wam",
           "4zzk4.c.wam",
           "2024-05-16 06:42:39"
          ],
          [
           "22z2i.c.wam",
           "4zzk4.c.wam",
           "2024-05-16 06:42:39"
          ],
          [
           "22z2i.c.wam",
           "bo4mu.c.wam",
           "2024-05-16 06:42:39"
          ],
          [
           "22z2i.c.wam",
           "oekye.wam",
           "2024-05-16 06:42:39"
          ],
          [
           "22z2i.c.wam",
           "kjx2q.c.wam",
           "2024-05-16 06:42:39"
          ],
          [
           "22z2i.c.wam",
           "x45s2xexgh3p",
           "2024-05-16 06:42:39"
          ],
          [
           "22z2i.c.wam",
           "x45s2xexgh3p",
           "2024-05-16 06:42:39"
          ],
          [
           "22z2i.c.wam",
           "x45s2xexgh3p",
           "2024-05-16 06:42:39"
          ],
          [
           "22z2i.c.wam",
           "v223i.c.wam",
           "2024-05-16 06:42:39"
          ],
          [
           "22z2i.c.wam",
           "v223i.c.wam",
           "2024-05-16 06:42:39"
          ],
          [
           "22z2i.c.wam",
           "oekye.wam",
           "2024-05-16 06:42:39"
          ],
          [
           "22z2i.c.wam",
           "oekye.wam",
           "2024-05-16 06:42:39"
          ],
          [
           "22z2i.c.wam",
           "dwe2o.c.wam",
           "2024-05-16 06:42:39"
          ],
          [
           "22z2i.c.wam",
           "dwe2o.c.wam",
           "2024-05-16 06:42:39"
          ],
          [
           "22z2i.c.wam",
           "dwe2o.c.wam",
           "2024-05-16 06:42:39"
          ],
          [
           "22z2i.c.wam",
           "dwe2o.c.wam",
           "2024-05-16 06:42:39"
          ],
          [
           "2hfnc.c.wam",
           "4mrne.c.wam",
           "2024-05-15 22:32:43"
          ],
          [
           "2hfnc.c.wam",
           "bo4mu.c.wam",
           "2024-05-15 22:28:12"
          ],
          [
           "22z2i.c.wam",
           "oekye.wam",
           "2024-05-15 04:11:39"
          ],
          [
           "22z2i.c.wam",
           "dwe2o.c.wam",
           "2024-05-15 04:11:39"
          ],
          [
           "22z2i.c.wam",
           "dwe2o.c.wam",
           "2024-05-15 04:11:39"
          ],
          [
           "22z2i.c.wam",
           "dwe2o.c.wam",
           "2024-05-15 04:11:39"
          ],
          [
           "22z2i.c.wam",
           "dwe2o.c.wam",
           "2024-05-15 04:11:39"
          ],
          [
           "22z2i.c.wam",
           "v223i.c.wam",
           "2024-05-15 04:11:39"
          ],
          [
           "22z2i.c.wam",
           "q3u2o.c.wam",
           "2024-05-14 13:54:36"
          ],
          [
           "22z2i.c.wam",
           "v223i.c.wam",
           "2024-05-14 13:54:36"
          ],
          [
           "22z2i.c.wam",
           "dwe2o.c.wam",
           "2024-05-14 13:54:36"
          ],
          [
           "22z2i.c.wam",
           "dwe2o.c.wam",
           "2024-05-14 13:54:36"
          ],
          [
           "22z2i.c.wam",
           "dwe2o.c.wam",
           "2024-05-14 13:54:36"
          ],
          [
           "22z2i.c.wam",
           "dwe2o.c.wam",
           "2024-05-14 13:54:36"
          ],
          [
           "1pvfu.wam",
           "q3u2o.c.wam",
           "2024-05-13 17:38:56"
          ],
          [
           "1pvfu.wam",
           "q3u2o.c.wam",
           "2024-05-13 17:38:46"
          ],
          [
           "1pvfu.wam",
           "q3u2o.c.wam",
           "2024-05-13 17:38:42"
          ],
          [
           "1pvfu.wam",
           "q3u2o.c.wam",
           "2024-05-13 17:38:39"
          ],
          [
           "1pvfu.wam",
           "nftgdertzsd1",
           "2024-05-13 17:38:30"
          ],
          [
           "1pvfu.wam",
           "oekye.wam",
           "2024-05-13 17:38:26"
          ],
          [
           "1pvfu.wam",
           "v223i.c.wam",
           "2024-05-13 17:38:20"
          ],
          [
           "1pvfu.wam",
           "dwe2o.c.wam",
           "2024-05-13 17:38:13"
          ],
          [
           "1pvfu.wam",
           "dwe2o.c.wam",
           "2024-05-13 17:38:08"
          ],
          [
           "1pvfu.wam",
           "v223i.c.wam",
           "2024-05-13 17:38:03"
          ],
          [
           "22z2i.c.wam",
           "4zzk4.c.wam",
           "2024-05-12 12:59:37"
          ],
          [
           "22z2i.c.wam",
           "v223i.c.wam",
           "2024-05-12 12:59:37"
          ],
          [
           "22z2i.c.wam",
           "dwe2o.c.wam",
           "2024-05-12 12:59:37"
          ],
          [
           "22z2i.c.wam",
           "dwe2o.c.wam",
           "2024-05-12 12:59:37"
          ],
          [
           "22z2i.c.wam",
           "dwe2o.c.wam",
           "2024-05-12 12:59:37"
          ],
          [
           "22z2i.c.wam",
           "dwe2o.c.wam",
           "2024-05-12 12:59:37"
          ],
          [
           "22z2i.c.wam",
           "dwe2o.c.wam",
           "2024-05-12 12:59:37"
          ],
          [
           "22z2i.c.wam",
           "dwe2o.c.wam",
           "2024-05-12 12:59:37"
          ],
          [
           "22z2i.c.wam",
           "dwe2o.c.wam",
           "2024-05-12 12:59:37"
          ],
          [
           "22z2i.c.wam",
           "dwe2o.c.wam",
           "2024-05-12 12:59:37"
          ],
          [
           "22z2i.c.wam",
           "dwe2o.c.wam",
           "2024-05-12 12:59:37"
          ],
          [
           "22z2i.c.wam",
           "dwe2o.c.wam",
           "2024-05-12 12:59:37"
          ],
          [
           "22z2i.c.wam",
           "dwe2o.c.wam",
           "2024-05-12 12:59:37"
          ],
          [
           "22z2i.c.wam",
           "dwe2o.c.wam",
           "2024-05-12 12:59:37"
          ],
          [
           "22z2i.c.wam",
           "dwe2o.c.wam",
           "2024-05-12 12:59:37"
          ],
          [
           "22z2i.c.wam",
           "4zzk4.c.wam",
           "2024-05-11 07:42:56"
          ],
          [
           "22z2i.c.wam",
           "4zzk4.c.wam",
           "2024-05-11 07:42:56"
          ],
          [
           "22z2i.c.wam",
           "4zzk4.c.wam",
           "2024-05-11 07:42:56"
          ],
          [
           "22z2i.c.wam",
           "4zzk4.c.wam",
           "2024-05-11 07:42:56"
          ],
          [
           "22z2i.c.wam",
           "4zzk4.c.wam",
           "2024-05-11 07:42:56"
          ],
          [
           "22z2i.c.wam",
           "4zzk4.c.wam",
           "2024-05-11 07:42:56"
          ],
          [
           "22z2i.c.wam",
           "4zzk4.c.wam",
           "2024-05-11 07:42:56"
          ],
          [
           "22z2i.c.wam",
           "4zzk4.c.wam",
           "2024-05-11 07:42:56"
          ],
          [
           "22z2i.c.wam",
           "4zzk4.c.wam",
           "2024-05-11 07:42:56"
          ],
          [
           "22z2i.c.wam",
           "4zzk4.c.wam",
           "2024-05-11 07:42:56"
          ],
          [
           "22z2i.c.wam",
           "4zzk4.c.wam",
           "2024-05-11 07:42:56"
          ],
          [
           "22z2i.c.wam",
           "4zzk4.c.wam",
           "2024-05-11 07:42:56"
          ],
          [
           "22z2i.c.wam",
           "4zzk4.c.wam",
           "2024-05-11 07:42:56"
          ],
          [
           "22z2i.c.wam",
           "4zzk4.c.wam",
           "2024-05-11 07:42:56"
          ],
          [
           "22z2i.c.wam",
           "4zzk4.c.wam",
           "2024-05-11 07:42:56"
          ],
          [
           "22z2i.c.wam",
           "4zzk4.c.wam",
           "2024-05-08 23:25:37"
          ],
          [
           "22z2i.c.wam",
           "42krg.wam",
           "2024-05-08 23:25:37"
          ],
          [
           "22z2i.c.wam",
           "42krg.wam",
           "2024-05-08 23:25:37"
          ],
          [
           "22z2i.c.wam",
           "sbykc.c.wam",
           "2024-05-08 23:25:37"
          ],
          [
           "22z2i.c.wam",
           "sbykc.c.wam",
           "2024-05-08 23:25:37"
          ],
          [
           "22z2i.c.wam",
           "sbykc.c.wam",
           "2024-05-08 23:25:37"
          ],
          [
           "22z2i.c.wam",
           "sbykc.c.wam",
           "2024-05-08 23:25:37"
          ],
          [
           "22z2i.c.wam",
           "dwe2o.c.wam",
           "2024-05-08 23:25:37"
          ],
          [
           "22z2i.c.wam",
           "ef1b4.wam",
           "2024-05-08 23:25:37"
          ],
          [
           "22z2i.c.wam",
           "dwe2o.c.wam",
           "2024-05-08 23:25:37"
          ],
          [
           "22z2i.c.wam",
           "dwe2o.c.wam",
           "2024-05-08 23:25:37"
          ],
          [
           "22z2i.c.wam",
           "dwe2o.c.wam",
           "2024-05-08 23:25:37"
          ],
          [
           "22z2i.c.wam",
           "dwe2o.c.wam",
           "2024-05-08 23:25:37"
          ],
          [
           "22z2i.c.wam",
           "dwe2o.c.wam",
           "2024-05-08 23:25:37"
          ],
          [
           "22z2i.c.wam",
           "dwe2o.c.wam",
           "2024-05-08 23:25:37"
          ],
          [
           "22z2i.c.wam",
           "ef1b4.wam",
           "2024-05-02 15:21:42"
          ],
          [
           "22z2i.c.wam",
           "4zzk4.c.wam",
           "2024-05-01 09:46:54"
          ],
          [
           "22z2i.c.wam",
           "4zzk4.c.wam",
           "2024-05-01 09:46:54"
          ],
          [
           "22z2i.c.wam",
           "4zzk4.c.wam",
           "2024-05-01 09:46:54"
          ],
          [
           "22z2i.c.wam",
           "4zzk4.c.wam",
           "2024-05-01 09:46:54"
          ],
          [
           "22z2i.c.wam",
           "4zzk4.c.wam",
           "2024-05-01 09:46:54"
          ],
          [
           "22z2i.c.wam",
           "4zzk4.c.wam",
           "2024-05-01 09:46:54"
          ],
          [
           "22z2i.c.wam",
           "4zzk4.c.wam",
           "2024-05-01 09:46:54"
          ],
          [
           "22z2i.c.wam",
           "4zzk4.c.wam",
           "2024-05-01 09:46:54"
          ],
          [
           "22z2i.c.wam",
           "4zzk4.c.wam",
           "2024-05-01 09:46:54"
          ],
          [
           "22z2i.c.wam",
           "4zzk4.c.wam",
           "2024-05-01 09:46:54"
          ],
          [
           "toondeawnuea",
           "kjx2q.c.wam",
           "2024-04-30 09:03:14"
          ],
          [
           "toondeawnuea",
           "qzi2k.c.wam",
           "2024-04-30 09:03:14"
          ],
          [
           "22z2i.c.wam",
           "sbykc.c.wam",
           "2024-04-30 04:18:01"
          ],
          [
           "22z2i.c.wam",
           "kk2.k.c.wam",
           "2024-04-30 04:18:01"
          ],
          [
           "22z2i.c.wam",
           "kk2.k.c.wam",
           "2024-04-30 04:18:01"
          ],
          [
           "22z2i.c.wam",
           "kk2.k.c.wam",
           "2024-04-30 04:18:01"
          ],
          [
           "22z2i.c.wam",
           "kk2.k.c.wam",
           "2024-04-30 04:18:01"
          ],
          [
           "22z2i.c.wam",
           "kk2.k.c.wam",
           "2024-04-30 04:18:01"
          ],
          [
           "22z2i.c.wam",
           "kk2.k.c.wam",
           "2024-04-30 04:18:01"
          ],
          [
           "22z2i.c.wam",
           "kk2.k.c.wam",
           "2024-04-30 04:18:01"
          ],
          [
           "22z2i.c.wam",
           "kk2.k.c.wam",
           "2024-04-30 04:18:01"
          ],
          [
           "22z2i.c.wam",
           "3l.bk.wam",
           "2024-04-30 04:18:01"
          ],
          [
           "vd44e.c.wam",
           "garmi.c.wam",
           "2024-04-29 15:17:02"
          ],
          [
           "vd44e.c.wam",
           "l3jzs.wam",
           "2024-04-29 15:17:02"
          ],
          [
           "vd44e.c.wam",
           "qzcio.wam",
           "2024-04-29 15:17:02"
          ],
          [
           "tbjq..c.wam",
           "dwe2o.c.wam",
           "2024-04-27 17:43:32"
          ],
          [
           "noz5..c.wam",
           "sbykc.c.wam",
           "2024-04-27 09:48:13"
          ],
          [
           "noz5..c.wam",
           "kjx2q.c.wam",
           "2024-04-25 23:27:08"
          ],
          [
           "noz5..c.wam",
           "kjx2q.c.wam",
           "2024-04-25 23:27:00"
          ],
          [
           "22z2i.c.wam",
           "qzi2k.c.wam",
           "2024-04-22 13:56:00"
          ],
          [
           "22z2i.c.wam",
           "qzi2k.c.wam",
           "2024-04-22 13:56:00"
          ],
          [
           "22z2i.c.wam",
           "qzi2k.c.wam",
           "2024-04-22 13:56:00"
          ],
          [
           "22z2i.c.wam",
           "qzi2k.c.wam",
           "2024-04-22 13:56:00"
          ],
          [
           "22z2i.c.wam",
           "qzi2k.c.wam",
           "2024-04-22 13:56:00"
          ],
          [
           "22z2i.c.wam",
           "qzi2k.c.wam",
           "2024-04-22 13:56:00"
          ],
          [
           "22z2i.c.wam",
           "q3u2o.c.wam",
           "2024-04-22 13:56:00"
          ],
          [
           "22z2i.c.wam",
           "q3u2o.c.wam",
           "2024-04-22 13:56:00"
          ],
          [
           "22z2i.c.wam",
           "q3u2o.c.wam",
           "2024-04-22 13:56:00"
          ],
          [
           "22z2i.c.wam",
           "q3u2o.c.wam",
           "2024-04-22 13:56:00"
          ],
          [
           "22z2i.c.wam",
           "sbykc.c.wam",
           "2024-04-22 13:56:00"
          ],
          [
           "22z2i.c.wam",
           "v223i.c.wam",
           "2024-04-22 13:56:00"
          ],
          [
           "22z2i.c.wam",
           "qzcio.wam",
           "2024-04-22 13:56:00"
          ],
          [
           "22z2i.c.wam",
           "qzcio.wam",
           "2024-04-22 13:56:00"
          ],
          [
           "22z2i.c.wam",
           "qzcio.wam",
           "2024-04-22 13:56:00"
          ],
          [
           "22z2i.c.wam",
           "qzcio.wam",
           "2024-04-22 13:56:00"
          ],
          [
           "22z2i.c.wam",
           "qzcio.wam",
           "2024-04-22 13:56:00"
          ],
          [
           "22z2i.c.wam",
           "qzcio.wam",
           "2024-04-22 13:56:00"
          ],
          [
           "22z2i.c.wam",
           "qzcio.wam",
           "2024-04-22 13:56:00"
          ],
          [
           "22z2i.c.wam",
           "qzcio.wam",
           "2024-04-22 13:56:00"
          ],
          [
           "22z2i.c.wam",
           "ow2z2.wam",
           "2024-04-22 13:56:00"
          ],
          [
           "22z2i.c.wam",
           "dwe2o.c.wam",
           "2024-04-22 13:56:00"
          ],
          [
           "22z2i.c.wam",
           "dwe2o.c.wam",
           "2024-04-22 13:56:00"
          ],
          [
           "22z2i.c.wam",
           "kjx2q.c.wam",
           "2024-04-22 13:56:00"
          ],
          [
           "22z2i.c.wam",
           "kjx2q.c.wam",
           "2024-04-22 13:56:00"
          ],
          [
           "22z2i.c.wam",
           "kjx2q.c.wam",
           "2024-04-22 13:56:00"
          ],
          [
           "22z2i.c.wam",
           "kjx2q.c.wam",
           "2024-04-22 13:56:00"
          ],
          [
           "22z2i.c.wam",
           "qzi2k.c.wam",
           "2024-04-22 13:56:00"
          ],
          [
           "22z2i.c.wam",
           "qzi2k.c.wam",
           "2024-04-22 13:56:00"
          ],
          [
           "22z2i.c.wam",
           "qzi2k.c.wam",
           "2024-04-22 13:56:00"
          ],
          [
           "22z2i.c.wam",
           "qzi2k.c.wam",
           "2024-04-22 13:56:00"
          ],
          [
           "22z2i.c.wam",
           "qzi2k.c.wam",
           "2024-04-22 13:56:00"
          ],
          [
           "22z2i.c.wam",
           "qzi2k.c.wam",
           "2024-04-22 13:56:00"
          ],
          [
           "22z2i.c.wam",
           "qzi2k.c.wam",
           "2024-04-22 13:56:00"
          ],
          [
           "22z2i.c.wam",
           "qzi2k.c.wam",
           "2024-04-22 13:56:00"
          ],
          [
           "22z2i.c.wam",
           "qzi2k.c.wam",
           "2024-04-22 13:56:00"
          ],
          [
           "22z2i.c.wam",
           "qzi2k.c.wam",
           "2024-04-22 13:56:00"
          ],
          [
           "22z2i.c.wam",
           "qzi2k.c.wam",
           "2024-04-22 13:56:00"
          ],
          [
           "22z2i.c.wam",
           "qzi2k.c.wam",
           "2024-04-22 13:56:00"
          ],
          [
           "22z2i.c.wam",
           "garmi.c.wam",
           "2024-04-22 13:56:00"
          ],
          [
           "22z2i.c.wam",
           "garmi.c.wam",
           "2024-04-22 13:56:00"
          ],
          [
           "22z2i.c.wam",
           "garmi.c.wam",
           "2024-04-22 13:56:00"
          ],
          [
           "22z2i.c.wam",
           "garmi.c.wam",
           "2024-04-22 13:56:00"
          ],
          [
           "22z2i.c.wam",
           "l3jzs.wam",
           "2024-04-22 13:56:00"
          ],
          [
           "22z2i.c.wam",
           "l3jzs.wam",
           "2024-04-22 13:56:00"
          ],
          [
           "22z2i.c.wam",
           "l3jzs.wam",
           "2024-04-22 13:56:00"
          ],
          [
           "22z2i.c.wam",
           "l3jzs.wam",
           "2024-04-22 13:56:00"
          ],
          [
           "22z2i.c.wam",
           "l3jzs.wam",
           "2024-04-22 13:56:00"
          ],
          [
           "22z2i.c.wam",
           "l3jzs.wam",
           "2024-04-22 13:56:00"
          ],
          [
           "22z2i.c.wam",
           "v223i.c.wam",
           "2024-04-22 07:45:37"
          ],
          [
           "22z2i.c.wam",
           "kjx2q.c.wam",
           "2024-04-22 07:45:37"
          ],
          [
           "22z2i.c.wam",
           "kjx2q.c.wam",
           "2024-04-22 07:45:37"
          ],
          [
           "22z2i.c.wam",
           "kjx2q.c.wam",
           "2024-04-22 07:45:37"
          ],
          [
           "22z2i.c.wam",
           "kjx2q.c.wam",
           "2024-04-22 07:45:37"
          ],
          [
           "22z2i.c.wam",
           "kjx2q.c.wam",
           "2024-04-22 07:45:37"
          ],
          [
           "22z2i.c.wam",
           "kjx2q.c.wam",
           "2024-04-22 07:45:37"
          ],
          [
           "22z2i.c.wam",
           "qzi2k.c.wam",
           "2024-04-22 07:45:37"
          ],
          [
           "22z2i.c.wam",
           "qzi2k.c.wam",
           "2024-04-22 07:45:37"
          ],
          [
           "22z2i.c.wam",
           "qzi2k.c.wam",
           "2024-04-22 07:45:37"
          ],
          [
           "22z2i.c.wam",
           "qzi2k.c.wam",
           "2024-04-22 07:45:37"
          ],
          [
           "22z2i.c.wam",
           "qzi2k.c.wam",
           "2024-04-22 07:45:37"
          ],
          [
           "22z2i.c.wam",
           "qzi2k.c.wam",
           "2024-04-22 07:45:37"
          ],
          [
           "22z2i.c.wam",
           "qzi2k.c.wam",
           "2024-04-22 07:45:37"
          ],
          [
           "22z2i.c.wam",
           "qzi2k.c.wam",
           "2024-04-22 07:45:37"
          ],
          [
           "22z2i.c.wam",
           "qzi2k.c.wam",
           "2024-04-22 07:45:37"
          ],
          [
           "22z2i.c.wam",
           "qzi2k.c.wam",
           "2024-04-22 07:45:37"
          ],
          [
           "22z2i.c.wam",
           "qzi2k.c.wam",
           "2024-04-22 07:45:37"
          ],
          [
           "22z2i.c.wam",
           "garmi.c.wam",
           "2024-04-22 07:45:37"
          ],
          [
           "22z2i.c.wam",
           "garmi.c.wam",
           "2024-04-22 07:45:37"
          ],
          [
           "22z2i.c.wam",
           "garmi.c.wam",
           "2024-04-22 07:45:37"
          ],
          [
           "22z2i.c.wam",
           "garmi.c.wam",
           "2024-04-22 07:45:37"
          ],
          [
           "22z2i.c.wam",
           "garmi.c.wam",
           "2024-04-22 07:45:37"
          ],
          [
           "22z2i.c.wam",
           "garmi.c.wam",
           "2024-04-22 07:45:37"
          ],
          [
           "22z2i.c.wam",
           "garmi.c.wam",
           "2024-04-22 07:45:37"
          ],
          [
           "22z2i.c.wam",
           "garmi.c.wam",
           "2024-04-22 07:45:37"
          ],
          [
           "22z2i.c.wam",
           "garmi.c.wam",
           "2024-04-22 07:45:37"
          ],
          [
           "22z2i.c.wam",
           "garmi.c.wam",
           "2024-04-22 07:45:37"
          ],
          [
           "22z2i.c.wam",
           "garmi.c.wam",
           "2024-04-22 07:45:37"
          ],
          [
           "22z2i.c.wam",
           "garmi.c.wam",
           "2024-04-22 07:45:37"
          ],
          [
           "22z2i.c.wam",
           "garmi.c.wam",
           "2024-04-22 07:45:37"
          ],
          [
           "22z2i.c.wam",
           "garmi.c.wam",
           "2024-04-22 07:45:37"
          ],
          [
           "22z2i.c.wam",
           "garmi.c.wam",
           "2024-04-22 07:45:37"
          ],
          [
           "22z2i.c.wam",
           "garmi.c.wam",
           "2024-04-22 07:45:37"
          ],
          [
           "22z2i.c.wam",
           "garmi.c.wam",
           "2024-04-22 07:45:37"
          ],
          [
           "22z2i.c.wam",
           "garmi.c.wam",
           "2024-04-22 07:45:37"
          ],
          [
           "22z2i.c.wam",
           "garmi.c.wam",
           "2024-04-22 07:45:37"
          ],
          [
           "22z2i.c.wam",
           "garmi.c.wam",
           "2024-04-22 07:45:37"
          ],
          [
           "22z2i.c.wam",
           "garmi.c.wam",
           "2024-04-22 07:45:37"
          ],
          [
           "22z2i.c.wam",
           "garmi.c.wam",
           "2024-04-22 07:45:37"
          ],
          [
           "22z2i.c.wam",
           "garmi.c.wam",
           "2024-04-22 07:45:37"
          ],
          [
           "22z2i.c.wam",
           "garmi.c.wam",
           "2024-04-22 07:45:37"
          ],
          [
           "22z2i.c.wam",
           "garmi.c.wam",
           "2024-04-22 07:45:37"
          ],
          [
           "22z2i.c.wam",
           "garmi.c.wam",
           "2024-04-22 07:45:37"
          ],
          [
           "22z2i.c.wam",
           "garmi.c.wam",
           "2024-04-22 07:45:37"
          ],
          [
           "22z2i.c.wam",
           "garmi.c.wam",
           "2024-04-22 07:45:37"
          ],
          [
           "22z2i.c.wam",
           "garmi.c.wam",
           "2024-04-22 07:45:37"
          ],
          [
           "22z2i.c.wam",
           "garmi.c.wam",
           "2024-04-22 07:45:37"
          ],
          [
           "22z2i.c.wam",
           "qzcio.wam",
           "2024-04-22 07:45:37"
          ],
          [
           "toondeawnuea",
           "garmi.c.wam",
           "2024-04-21 02:45:16"
          ],
          [
           "22z2i.c.wam",
           "sbykc.c.wam",
           "2024-04-21 01:33:00"
          ],
          [
           "22z2i.c.wam",
           "sbykc.c.wam",
           "2024-04-21 01:33:00"
          ],
          [
           "22z2i.c.wam",
           "v223i.c.wam",
           "2024-04-21 01:33:00"
          ],
          [
           "22z2i.c.wam",
           "v223i.c.wam",
           "2024-04-21 01:33:00"
          ],
          [
           "22z2i.c.wam",
           "dwe2o.c.wam",
           "2024-04-21 01:33:00"
          ],
          [
           "22z2i.c.wam",
           "dwe2o.c.wam",
           "2024-04-21 01:33:00"
          ],
          [
           "22z2i.c.wam",
           "42krg.wam",
           "2024-04-20 14:22:58"
          ],
          [
           "22z2i.c.wam",
           "otlx.wam",
           "2024-04-20 14:22:58"
          ],
          [
           "22z2i.c.wam",
           "otlx.wam",
           "2024-04-20 14:22:58"
          ],
          [
           "22z2i.c.wam",
           "otlx.wam",
           "2024-04-20 14:22:58"
          ],
          [
           "22z2i.c.wam",
           "otlx.wam",
           "2024-04-20 14:22:58"
          ],
          [
           "22z2i.c.wam",
           "otlx.wam",
           "2024-04-20 14:22:58"
          ],
          [
           "22z2i.c.wam",
           "otlx.wam",
           "2024-04-20 14:22:58"
          ],
          [
           "22z2i.c.wam",
           "otlx.wam",
           "2024-04-20 14:22:58"
          ],
          [
           "22z2i.c.wam",
           "otlx.wam",
           "2024-04-20 14:22:58"
          ],
          [
           "22z2i.c.wam",
           "otlx.wam",
           "2024-04-20 14:22:58"
          ],
          [
           "22z2i.c.wam",
           "otlx.wam",
           "2024-04-20 14:22:58"
          ],
          [
           "22z2i.c.wam",
           "oekye.wam",
           "2024-04-20 14:22:58"
          ],
          [
           "22z2i.c.wam",
           "oekye.wam",
           "2024-04-20 14:22:58"
          ],
          [
           "22z2i.c.wam",
           "oekye.wam",
           "2024-04-20 14:22:58"
          ],
          [
           "22z2i.c.wam",
           "ndmtk.wam",
           "2024-04-20 14:22:58"
          ],
          [
           "22z2i.c.wam",
           "bf5hs.wam",
           "2024-04-20 14:22:58"
          ],
          [
           "22z2i.c.wam",
           "bf5hs.wam",
           "2024-04-20 14:22:58"
          ],
          [
           "22z2i.c.wam",
           "bf5hs.wam",
           "2024-04-20 14:22:58"
          ],
          [
           "22z2i.c.wam",
           "bf5hs.wam",
           "2024-04-20 14:22:58"
          ],
          [
           "22z2i.c.wam",
           "bf5hs.wam",
           "2024-04-20 14:22:58"
          ],
          [
           "22z2i.c.wam",
           "bf5hs.wam",
           "2024-04-20 14:22:58"
          ],
          [
           "22z2i.c.wam",
           "bf5hs.wam",
           "2024-04-20 14:22:58"
          ],
          [
           "22z2i.c.wam",
           "bf5hs.wam",
           "2024-04-20 14:22:58"
          ],
          [
           "22z2i.c.wam",
           "bf5hs.wam",
           "2024-04-20 14:22:58"
          ],
          [
           "22z2i.c.wam",
           "bf5hs.wam",
           "2024-04-20 14:22:58"
          ],
          [
           "22z2i.c.wam",
           "bf5hs.wam",
           "2024-04-20 14:22:58"
          ],
          [
           "22z2i.c.wam",
           "oekye.wam",
           "2024-04-20 14:22:58"
          ],
          [
           "22z2i.c.wam",
           "oekye.wam",
           "2024-04-20 14:22:58"
          ],
          [
           "22z2i.c.wam",
           "oekye.wam",
           "2024-04-20 14:22:58"
          ],
          [
           "22z2i.c.wam",
           "vqs.s.c.wam",
           "2024-04-20 14:22:58"
          ],
          [
           "22z2i.c.wam",
           "3l.bk.wam",
           "2024-04-20 14:22:58"
          ],
          [
           "22z2i.c.wam",
           "ef1b4.wam",
           "2024-04-20 14:22:58"
          ],
          [
           "22z2i.c.wam",
           "kjx2q.c.wam",
           "2024-04-20 14:22:58"
          ],
          [
           "22z2i.c.wam",
           "kjx2q.c.wam",
           "2024-04-20 14:22:58"
          ],
          [
           "22z2i.c.wam",
           "kjx2q.c.wam",
           "2024-04-20 14:22:58"
          ],
          [
           "22z2i.c.wam",
           "kjx2q.c.wam",
           "2024-04-20 14:22:58"
          ],
          [
           "22z2i.c.wam",
           "kjx2q.c.wam",
           "2024-04-20 14:22:58"
          ],
          [
           "22z2i.c.wam",
           "kjx2q.c.wam",
           "2024-04-20 14:22:58"
          ],
          [
           "22z2i.c.wam",
           "kjx2q.c.wam",
           "2024-04-20 14:22:58"
          ],
          [
           "22z2i.c.wam",
           "kjx2q.c.wam",
           "2024-04-20 14:22:58"
          ],
          [
           "22z2i.c.wam",
           "kjx2q.c.wam",
           "2024-04-20 14:22:58"
          ],
          [
           "22z2i.c.wam",
           "l3jzs.wam",
           "2024-04-20 14:22:58"
          ],
          [
           "22z2i.c.wam",
           "l3jzs.wam",
           "2024-04-20 14:22:58"
          ],
          [
           "22z2i.c.wam",
           "q3u2o.c.wam",
           "2024-04-20 14:22:58"
          ],
          [
           "22z2i.c.wam",
           "q3u2o.c.wam",
           "2024-04-20 14:22:58"
          ],
          [
           "22z2i.c.wam",
           "q3u2o.c.wam",
           "2024-04-20 14:22:58"
          ],
          [
           "22z2i.c.wam",
           "q3u2o.c.wam",
           "2024-04-20 14:22:58"
          ],
          [
           "22z2i.c.wam",
           "q3u2o.c.wam",
           "2024-04-20 14:22:58"
          ],
          [
           "22z2i.c.wam",
           "q3u2o.c.wam",
           "2024-04-20 14:22:58"
          ],
          [
           "22z2i.c.wam",
           "l3jzs.wam",
           "2024-04-20 14:22:20"
          ],
          [
           "22z2i.c.wam",
           "l3jzs.wam",
           "2024-04-20 14:22:20"
          ],
          [
           "22z2i.c.wam",
           "l3jzs.wam",
           "2024-04-20 14:22:20"
          ],
          [
           "22z2i.c.wam",
           "l3jzs.wam",
           "2024-04-20 14:22:20"
          ],
          [
           "22z2i.c.wam",
           "l3jzs.wam",
           "2024-04-20 14:22:20"
          ],
          [
           "22z2i.c.wam",
           "l3jzs.wam",
           "2024-04-20 14:22:20"
          ],
          [
           "22z2i.c.wam",
           "l3jzs.wam",
           "2024-04-20 14:22:20"
          ],
          [
           "22z2i.c.wam",
           "l3jzs.wam",
           "2024-04-20 14:22:20"
          ],
          [
           "22z2i.c.wam",
           "l3jzs.wam",
           "2024-04-20 14:22:20"
          ],
          [
           "22z2i.c.wam",
           "l3jzs.wam",
           "2024-04-20 14:22:20"
          ],
          [
           "22z2i.c.wam",
           "l3jzs.wam",
           "2024-04-20 14:22:20"
          ],
          [
           "22z2i.c.wam",
           "l3jzs.wam",
           "2024-04-20 14:22:20"
          ],
          [
           "22z2i.c.wam",
           "l3jzs.wam",
           "2024-04-20 14:22:20"
          ],
          [
           "22z2i.c.wam",
           "l3jzs.wam",
           "2024-04-20 14:22:20"
          ],
          [
           "22z2i.c.wam",
           "l3jzs.wam",
           "2024-04-20 14:22:20"
          ],
          [
           "22z2i.c.wam",
           "l3jzs.wam",
           "2024-04-20 14:22:20"
          ],
          [
           "22z2i.c.wam",
           "l3jzs.wam",
           "2024-04-20 14:22:20"
          ],
          [
           "22z2i.c.wam",
           "l3jzs.wam",
           "2024-04-20 14:22:20"
          ],
          [
           "22z2i.c.wam",
           "qzcio.wam",
           "2024-04-20 14:22:20"
          ],
          [
           "22z2i.c.wam",
           "qzcio.wam",
           "2024-04-20 14:22:20"
          ],
          [
           "22z2i.c.wam",
           "qzcio.wam",
           "2024-04-20 14:22:20"
          ],
          [
           "22z2i.c.wam",
           "qzcio.wam",
           "2024-04-20 14:22:20"
          ],
          [
           "22z2i.c.wam",
           "qzcio.wam",
           "2024-04-20 14:22:20"
          ],
          [
           "22z2i.c.wam",
           "qzcio.wam",
           "2024-04-20 14:22:20"
          ],
          [
           "22z2i.c.wam",
           "qzcio.wam",
           "2024-04-20 14:22:20"
          ],
          [
           "22z2i.c.wam",
           "qzcio.wam",
           "2024-04-20 14:22:20"
          ],
          [
           "22z2i.c.wam",
           "qzcio.wam",
           "2024-04-20 14:22:20"
          ],
          [
           "22z2i.c.wam",
           "qzcio.wam",
           "2024-04-20 14:22:20"
          ],
          [
           "22z2i.c.wam",
           "qzcio.wam",
           "2024-04-20 14:22:20"
          ],
          [
           "22z2i.c.wam",
           "qzcio.wam",
           "2024-04-20 14:22:20"
          ],
          [
           "22z2i.c.wam",
           "qzcio.wam",
           "2024-04-20 14:22:20"
          ],
          [
           "22z2i.c.wam",
           "qzcio.wam",
           "2024-04-20 14:22:20"
          ],
          [
           "22z2i.c.wam",
           "qzcio.wam",
           "2024-04-20 14:22:20"
          ],
          [
           "22z2i.c.wam",
           "qzcio.wam",
           "2024-04-20 14:22:20"
          ],
          [
           "22z2i.c.wam",
           "qzcio.wam",
           "2024-04-20 14:22:20"
          ],
          [
           "22z2i.c.wam",
           "qzcio.wam",
           "2024-04-20 14:22:20"
          ],
          [
           "22z2i.c.wam",
           "qzcio.wam",
           "2024-04-20 14:22:20"
          ],
          [
           "22z2i.c.wam",
           "qzcio.wam",
           "2024-04-20 14:22:20"
          ],
          [
           "22z2i.c.wam",
           "qzcio.wam",
           "2024-04-20 14:22:20"
          ],
          [
           "22z2i.c.wam",
           "qzcio.wam",
           "2024-04-20 14:22:20"
          ],
          [
           "22z2i.c.wam",
           "qzcio.wam",
           "2024-04-20 14:22:20"
          ],
          [
           "22z2i.c.wam",
           "qzcio.wam",
           "2024-04-20 14:22:20"
          ],
          [
           "22z2i.c.wam",
           "qzcio.wam",
           "2024-04-20 14:22:20"
          ],
          [
           "22z2i.c.wam",
           "qzcio.wam",
           "2024-04-20 14:22:20"
          ],
          [
           "22z2i.c.wam",
           "qzcio.wam",
           "2024-04-20 14:22:20"
          ],
          [
           "22z2i.c.wam",
           "qzcio.wam",
           "2024-04-20 14:22:20"
          ],
          [
           "22z2i.c.wam",
           "qzcio.wam",
           "2024-04-20 14:22:20"
          ],
          [
           "22z2i.c.wam",
           "qzcio.wam",
           "2024-04-20 14:22:20"
          ],
          [
           "22z2i.c.wam",
           "q3u2o.c.wam",
           "2024-04-20 14:22:20"
          ],
          [
           "22z2i.c.wam",
           "qzi2k.c.wam",
           "2024-04-20 14:21:02"
          ],
          [
           "22z2i.c.wam",
           "qzi2k.c.wam",
           "2024-04-20 14:21:02"
          ],
          [
           "22z2i.c.wam",
           "qzi2k.c.wam",
           "2024-04-20 14:21:02"
          ],
          [
           "22z2i.c.wam",
           "qzi2k.c.wam",
           "2024-04-20 14:21:02"
          ],
          [
           "22z2i.c.wam",
           "qzi2k.c.wam",
           "2024-04-20 14:21:02"
          ],
          [
           "22z2i.c.wam",
           "qzi2k.c.wam",
           "2024-04-20 14:21:02"
          ],
          [
           "22z2i.c.wam",
           "qzi2k.c.wam",
           "2024-04-20 14:21:02"
          ],
          [
           "22z2i.c.wam",
           "qzi2k.c.wam",
           "2024-04-20 14:21:02"
          ],
          [
           "22z2i.c.wam",
           "qzi2k.c.wam",
           "2024-04-20 14:21:02"
          ],
          [
           "22z2i.c.wam",
           "garmi.c.wam",
           "2024-04-20 14:21:02"
          ],
          [
           "22z2i.c.wam",
           "garmi.c.wam",
           "2024-04-20 14:21:02"
          ],
          [
           "22z2i.c.wam",
           "garmi.c.wam",
           "2024-04-20 14:21:02"
          ],
          [
           "22z2i.c.wam",
           "garmi.c.wam",
           "2024-04-20 14:21:02"
          ],
          [
           "22z2i.c.wam",
           "garmi.c.wam",
           "2024-04-20 14:21:02"
          ],
          [
           "22z2i.c.wam",
           "garmi.c.wam",
           "2024-04-20 14:21:02"
          ],
          [
           "22z2i.c.wam",
           "garmi.c.wam",
           "2024-04-20 14:21:02"
          ],
          [
           "22z2i.c.wam",
           "garmi.c.wam",
           "2024-04-20 14:21:02"
          ],
          [
           "22z2i.c.wam",
           "garmi.c.wam",
           "2024-04-20 14:21:02"
          ],
          [
           "22z2i.c.wam",
           "garmi.c.wam",
           "2024-04-20 14:21:02"
          ],
          [
           "22z2i.c.wam",
           "garmi.c.wam",
           "2024-04-20 14:21:02"
          ],
          [
           "22z2i.c.wam",
           "garmi.c.wam",
           "2024-04-20 14:21:02"
          ],
          [
           "22z2i.c.wam",
           "garmi.c.wam",
           "2024-04-20 14:21:02"
          ],
          [
           "22z2i.c.wam",
           "garmi.c.wam",
           "2024-04-20 14:21:02"
          ],
          [
           "22z2i.c.wam",
           "garmi.c.wam",
           "2024-04-20 14:21:02"
          ],
          [
           "22z2i.c.wam",
           "garmi.c.wam",
           "2024-04-20 14:21:02"
          ],
          [
           "22z2i.c.wam",
           "garmi.c.wam",
           "2024-04-20 14:21:02"
          ],
          [
           "22z2i.c.wam",
           "garmi.c.wam",
           "2024-04-20 14:21:02"
          ],
          [
           "22z2i.c.wam",
           "garmi.c.wam",
           "2024-04-20 14:21:02"
          ],
          [
           "22z2i.c.wam",
           "garmi.c.wam",
           "2024-04-20 14:21:02"
          ],
          [
           "22z2i.c.wam",
           "garmi.c.wam",
           "2024-04-20 14:21:02"
          ],
          [
           "22z2i.c.wam",
           "garmi.c.wam",
           "2024-04-20 14:21:02"
          ],
          [
           "22z2i.c.wam",
           "garmi.c.wam",
           "2024-04-20 14:21:02"
          ],
          [
           "22z2i.c.wam",
           "garmi.c.wam",
           "2024-04-20 14:21:02"
          ],
          [
           "22z2i.c.wam",
           "garmi.c.wam",
           "2024-04-20 14:21:02"
          ],
          [
           "22z2i.c.wam",
           "garmi.c.wam",
           "2024-04-20 14:21:02"
          ],
          [
           "22z2i.c.wam",
           "garmi.c.wam",
           "2024-04-20 14:21:02"
          ],
          [
           "22z2i.c.wam",
           "garmi.c.wam",
           "2024-04-20 14:21:02"
          ],
          [
           "22z2i.c.wam",
           "garmi.c.wam",
           "2024-04-20 14:21:02"
          ],
          [
           "22z2i.c.wam",
           "garmi.c.wam",
           "2024-04-20 14:21:02"
          ],
          [
           "22z2i.c.wam",
           "l3jzs.wam",
           "2024-04-20 14:21:02"
          ],
          [
           "22z2i.c.wam",
           "l3jzs.wam",
           "2024-04-20 14:21:02"
          ],
          [
           "22z2i.c.wam",
           "l3jzs.wam",
           "2024-04-20 14:21:02"
          ],
          [
           "22z2i.c.wam",
           "l3jzs.wam",
           "2024-04-20 14:21:02"
          ],
          [
           "22z2i.c.wam",
           "l3jzs.wam",
           "2024-04-20 14:21:02"
          ],
          [
           "22z2i.c.wam",
           "l3jzs.wam",
           "2024-04-20 14:21:02"
          ],
          [
           "22z2i.c.wam",
           "l3jzs.wam",
           "2024-04-20 14:21:02"
          ],
          [
           "22z2i.c.wam",
           "l3jzs.wam",
           "2024-04-20 14:21:02"
          ],
          [
           "22z2i.c.wam",
           "l3jzs.wam",
           "2024-04-20 14:21:02"
          ],
          [
           "22z2i.c.wam",
           "l3jzs.wam",
           "2024-04-20 14:21:02"
          ],
          [
           "22z2i.c.wam",
           "kjx2q.c.wam",
           "2024-04-20 08:47:09"
          ],
          [
           "22z2i.c.wam",
           "kjx2q.c.wam",
           "2024-04-20 08:47:09"
          ],
          [
           "22z2i.c.wam",
           "kjx2q.c.wam",
           "2024-04-20 08:47:09"
          ],
          [
           "22z2i.c.wam",
           "kjx2q.c.wam",
           "2024-04-20 08:47:09"
          ],
          [
           "22z2i.c.wam",
           "kjx2q.c.wam",
           "2024-04-20 08:47:09"
          ],
          [
           "22z2i.c.wam",
           "kjx2q.c.wam",
           "2024-04-20 08:47:09"
          ],
          [
           "22z2i.c.wam",
           "kjx2q.c.wam",
           "2024-04-20 08:47:09"
          ],
          [
           "22z2i.c.wam",
           "kjx2q.c.wam",
           "2024-04-20 08:47:09"
          ],
          [
           "22z2i.c.wam",
           "kjx2q.c.wam",
           "2024-04-20 08:47:09"
          ],
          [
           "22z2i.c.wam",
           "kjx2q.c.wam",
           "2024-04-20 08:47:09"
          ],
          [
           "22z2i.c.wam",
           "kjx2q.c.wam",
           "2024-04-20 08:47:09"
          ],
          [
           "22z2i.c.wam",
           "kjx2q.c.wam",
           "2024-04-20 08:47:09"
          ],
          [
           "22z2i.c.wam",
           "kjx2q.c.wam",
           "2024-04-20 08:47:09"
          ],
          [
           "22z2i.c.wam",
           "kjx2q.c.wam",
           "2024-04-20 08:47:09"
          ],
          [
           "22z2i.c.wam",
           "kjx2q.c.wam",
           "2024-04-20 08:47:09"
          ],
          [
           "22z2i.c.wam",
           "kjx2q.c.wam",
           "2024-04-20 08:47:09"
          ],
          [
           "22z2i.c.wam",
           "kjx2q.c.wam",
           "2024-04-20 08:47:09"
          ],
          [
           "22z2i.c.wam",
           "qzi2k.c.wam",
           "2024-04-20 08:47:09"
          ],
          [
           "22z2i.c.wam",
           "qzi2k.c.wam",
           "2024-04-20 08:47:09"
          ],
          [
           "22z2i.c.wam",
           "qzi2k.c.wam",
           "2024-04-20 08:47:09"
          ],
          [
           "22z2i.c.wam",
           "qzi2k.c.wam",
           "2024-04-20 08:47:09"
          ],
          [
           "22z2i.c.wam",
           "qzi2k.c.wam",
           "2024-04-20 08:47:09"
          ],
          [
           "22z2i.c.wam",
           "qzi2k.c.wam",
           "2024-04-20 08:47:09"
          ],
          [
           "22z2i.c.wam",
           "qzi2k.c.wam",
           "2024-04-20 08:47:09"
          ],
          [
           "22z2i.c.wam",
           "qzi2k.c.wam",
           "2024-04-20 08:47:09"
          ],
          [
           "22z2i.c.wam",
           "qzi2k.c.wam",
           "2024-04-20 08:47:09"
          ],
          [
           "22z2i.c.wam",
           "qzi2k.c.wam",
           "2024-04-20 08:47:09"
          ],
          [
           "22z2i.c.wam",
           "qzi2k.c.wam",
           "2024-04-20 08:47:09"
          ],
          [
           "22z2i.c.wam",
           "qzi2k.c.wam",
           "2024-04-20 08:47:09"
          ],
          [
           "22z2i.c.wam",
           "qzi2k.c.wam",
           "2024-04-20 08:47:09"
          ],
          [
           "22z2i.c.wam",
           "qzi2k.c.wam",
           "2024-04-20 08:47:09"
          ],
          [
           "22z2i.c.wam",
           "qzi2k.c.wam",
           "2024-04-20 08:47:09"
          ],
          [
           "22z2i.c.wam",
           "qzi2k.c.wam",
           "2024-04-20 08:47:09"
          ],
          [
           "22z2i.c.wam",
           "qzi2k.c.wam",
           "2024-04-20 08:47:09"
          ],
          [
           "22z2i.c.wam",
           "qzi2k.c.wam",
           "2024-04-20 08:47:09"
          ],
          [
           "22z2i.c.wam",
           "qzi2k.c.wam",
           "2024-04-20 08:47:09"
          ],
          [
           "22z2i.c.wam",
           "qzi2k.c.wam",
           "2024-04-20 08:47:09"
          ],
          [
           "22z2i.c.wam",
           "qzi2k.c.wam",
           "2024-04-20 08:47:09"
          ],
          [
           "22z2i.c.wam",
           "sbykc.c.wam",
           "2024-04-20 08:47:09"
          ],
          [
           "22z2i.c.wam",
           "dwe2o.c.wam",
           "2024-04-20 08:47:09"
          ],
          [
           "22z2i.c.wam",
           "dwe2o.c.wam",
           "2024-04-20 08:47:09"
          ],
          [
           "22z2i.c.wam",
           "dwe2o.c.wam",
           "2024-04-20 08:47:09"
          ],
          [
           "22z2i.c.wam",
           "dwe2o.c.wam",
           "2024-04-20 08:47:09"
          ],
          [
           "22z2i.c.wam",
           "dwe2o.c.wam",
           "2024-04-20 08:47:09"
          ],
          [
           "22z2i.c.wam",
           "dwe2o.c.wam",
           "2024-04-20 08:47:09"
          ],
          [
           "22z2i.c.wam",
           "dwe2o.c.wam",
           "2024-04-20 08:47:09"
          ],
          [
           "22z2i.c.wam",
           "dwe2o.c.wam",
           "2024-04-20 08:47:09"
          ],
          [
           "22z2i.c.wam",
           "v223i.c.wam",
           "2024-04-20 08:47:09"
          ],
          [
           "22z2i.c.wam",
           "v223i.c.wam",
           "2024-04-20 08:47:09"
          ],
          [
           "vd44e.c.wam",
           "qzi2k.c.wam",
           "2024-04-20 02:45:05"
          ],
          [
           "vd44e.c.wam",
           "garmi.c.wam",
           "2024-04-20 02:45:05"
          ],
          [
           "vd44e.c.wam",
           "qzcio.wam",
           "2024-04-20 02:45:05"
          ],
          [
           "vd44e.c.wam",
           "qzi2k.c.wam",
           "2024-04-19 06:27:30"
          ],
          [
           "vd44e.c.wam",
           "garmi.c.wam",
           "2024-04-19 06:27:30"
          ],
          [
           "vd44e.c.wam",
           "l3jzs.wam",
           "2024-04-19 06:27:30"
          ],
          [
           "vd44e.c.wam",
           "qzcio.wam",
           "2024-04-19 06:27:30"
          ],
          [
           "noz5..c.wam",
           "l3jzs.wam",
           "2024-04-18 22:53:08"
          ],
          [
           "noz5..c.wam",
           "v223i.c.wam",
           "2024-04-18 22:52:35"
          ],
          [
           "ds3jy.wam",
           "l3jzs.wam",
           "2024-04-18 15:02:00"
          ],
          [
           "ds3jy.wam",
           "l3jzs.wam",
           "2024-04-18 15:01:44"
          ],
          [
           "ds3jy.wam",
           "l3jzs.wam",
           "2024-04-18 15:01:30"
          ],
          [
           "ds3jy.wam",
           "l3jzs.wam",
           "2024-04-18 15:01:06"
          ],
          [
           "ds3jy.wam",
           "v223i.c.wam",
           "2024-04-18 15:00:45"
          ],
          [
           "ds3jy.wam",
           "dwe2o.c.wam",
           "2024-04-18 15:00:32"
          ],
          [
           "ds3jy.wam",
           "dwe2o.c.wam",
           "2024-04-18 15:00:18"
          ],
          [
           "ds3jy.wam",
           "dwe2o.c.wam",
           "2024-04-18 15:00:00"
          ],
          [
           "ds3jy.wam",
           "dwe2o.c.wam",
           "2024-04-18 14:59:45"
          ],
          [
           "ds3jy.wam",
           "dwe2o.c.wam",
           "2024-04-18 14:59:30"
          ],
          [
           "ds3jy.wam",
           "dwe2o.c.wam",
           "2024-04-18 14:58:52"
          ],
          [
           "ds3jy.wam",
           "dwe2o.c.wam",
           "2024-04-18 14:58:38"
          ],
          [
           "ds3jy.wam",
           "dwe2o.c.wam",
           "2024-04-18 14:58:25"
          ],
          [
           "ds3jy.wam",
           "dwe2o.c.wam",
           "2024-04-18 14:58:12"
          ],
          [
           "ds3jy.wam",
           "dwe2o.c.wam",
           "2024-04-18 14:57:55"
          ],
          [
           "ds3jy.wam",
           "l3jzs.wam",
           "2024-04-18 14:57:40"
          ],
          [
           "ds3jy.wam",
           "l3jzs.wam",
           "2024-04-18 14:57:26"
          ],
          [
           "ds3jy.wam",
           "l3jzs.wam",
           "2024-04-18 14:57:12"
          ],
          [
           "ds3jy.wam",
           "l3jzs.wam",
           "2024-04-18 14:57:00"
          ],
          [
           "ds3jy.wam",
           "l3jzs.wam",
           "2024-04-18 14:56:34"
          ],
          [
           "vd44e.c.wam",
           "kjx2q.c.wam",
           "2024-04-18 14:37:42"
          ],
          [
           "vd44e.c.wam",
           "qzi2k.c.wam",
           "2024-04-18 14:37:42"
          ],
          [
           "vd44e.c.wam",
           "garmi.c.wam",
           "2024-04-18 14:37:42"
          ],
          [
           "vd44e.c.wam",
           "l3jzs.wam",
           "2024-04-18 14:37:42"
          ],
          [
           "vd44e.c.wam",
           "qzcio.wam",
           "2024-04-18 14:37:42"
          ],
          [
           "3.g2c.c.wam",
           "ds3jy.wam",
           "2024-04-18 10:11:05"
          ],
          [
           "vd44e.c.wam",
           "kjx2q.c.wam",
           "2024-04-17 13:37:29"
          ],
          [
           "vd44e.c.wam",
           "qzi2k.c.wam",
           "2024-04-17 13:37:29"
          ]
         ],
         "hovertemplate": "created_at_time=%{x}<br>price.amount=%{y}<br>buyer=%{customdata[0]}<br>seller=%{customdata[1]}<br>updated_at_time=%{customdata[2]}<extra></extra>",
         "legendgroup": "",
         "marker": {
          "color": "#636efa",
          "symbol": "circle"
         },
         "mode": "markers",
         "name": "",
         "orientation": "v",
         "showlegend": false,
         "type": "scatter",
         "x": [
          "2024-05-22 17:27:30",
          "2024-05-23 01:35:07",
          "2024-05-19 21:10:48",
          "2024-05-19 21:11:04",
          "2024-05-19 21:11:16",
          "2024-05-20 08:07:24",
          "2024-05-20 14:05:16",
          "2024-05-20 14:05:18",
          "2024-05-20 14:05:21",
          "2024-05-21 04:27:30",
          "2024-05-21 04:28:42",
          "2024-05-21 06:29:01",
          "2024-05-07 00:11:12",
          "2024-05-03 09:45:57",
          "2024-05-03 09:40:24",
          "2024-05-03 09:34:22",
          "2024-03-26 10:02:21",
          "2024-04-08 06:49:05",
          "2024-04-08 06:49:05",
          "2024-04-08 06:49:05",
          "2024-04-08 06:49:05",
          "2024-04-08 06:49:05",
          "2024-03-26 10:02:21",
          "2024-04-15 10:53:11",
          "2024-04-15 10:53:11",
          "2024-04-15 10:53:11",
          "2024-04-15 10:53:11",
          "2024-04-15 10:53:11",
          "2024-04-15 10:53:11",
          "2024-04-15 10:53:11",
          "2024-04-15 10:53:11",
          "2024-04-23 08:07:06",
          "2024-05-17 10:45:12",
          "2024-05-17 10:45:29",
          "2024-05-03 10:37:07",
          "2024-05-16 11:03:24",
          "2024-05-16 12:09:09",
          "2024-05-16 12:09:11",
          "2024-05-16 12:09:13",
          "2024-05-16 12:58:28",
          "2024-05-16 12:58:47",
          "2024-05-16 17:47:38",
          "2024-05-16 17:47:46",
          "2024-04-28 20:07:44",
          "2024-04-30 15:30:12",
          "2024-04-30 15:30:25",
          "2024-04-30 15:30:39",
          "2024-04-30 15:39:43",
          "2024-04-30 15:39:43",
          "2024-05-01 08:22:28",
          "2024-05-02 05:48:25",
          "2024-05-03 09:18:59",
          "2024-05-03 10:33:41",
          "2024-05-03 10:36:12",
          "2024-05-03 10:36:37",
          "2024-05-15 00:31:53",
          "2024-05-15 15:44:49",
          "2024-05-15 20:32:16",
          "2024-05-15 20:32:31",
          "2024-05-15 21:46:06",
          "2024-05-15 21:46:07",
          "2024-05-15 21:46:11",
          "2024-05-15 21:46:14",
          "2024-04-27 18:46:05",
          "2024-05-03 21:58:51",
          "2024-05-14 21:27:13",
          "2024-05-14 23:32:05",
          "2024-05-14 23:32:07",
          "2024-05-14 23:32:13",
          "2024-05-14 23:32:16",
          "2024-05-15 00:31:53",
          "2024-05-03 23:40:26",
          "2024-05-14 00:10:14",
          "2024-05-14 11:06:38",
          "2024-05-14 11:06:39",
          "2024-05-14 11:06:42",
          "2024-05-14 11:06:46",
          "2024-05-03 23:40:17",
          "2024-05-03 23:40:10",
          "2024-05-03 23:33:50",
          "2024-05-03 23:33:58",
          "2024-05-04 13:02:02",
          "2024-05-04 19:21:39",
          "2024-05-12 23:08:55",
          "2024-05-13 13:28:38",
          "2024-05-13 13:28:36",
          "2024-05-12 23:08:55",
          "2024-05-05 08:17:28",
          "2024-05-12 06:12:00",
          "2024-05-12 12:51:24",
          "2024-05-12 12:51:26",
          "2024-05-12 12:51:31",
          "2024-05-12 12:51:33",
          "2024-05-12 12:51:38",
          "2024-05-12 12:51:40",
          "2024-05-12 12:51:47",
          "2024-05-12 12:51:49",
          "2024-05-12 12:51:55",
          "2024-05-12 12:51:58",
          "2024-05-12 12:52:03",
          "2024-05-12 12:52:05",
          "2024-05-12 12:52:13",
          "2024-05-05 08:17:28",
          "2024-05-05 08:17:28",
          "2024-05-05 08:17:28",
          "2024-05-05 08:17:28",
          "2024-05-05 08:17:28",
          "2024-05-05 08:17:28",
          "2024-05-05 08:17:28",
          "2024-05-05 08:17:28",
          "2024-05-05 08:17:28",
          "2024-05-05 08:17:28",
          "2024-05-05 08:17:28",
          "2024-05-05 08:17:28",
          "2024-05-05 08:17:28",
          "2024-05-05 08:17:28",
          "2024-05-05 08:17:28",
          "2024-05-05 08:17:28",
          "2024-05-05 10:19:11",
          "2024-05-05 10:19:42",
          "2024-05-05 21:47:52",
          "2024-05-05 21:47:58",
          "2024-05-05 21:48:04",
          "2024-05-05 21:48:09",
          "2024-05-06 08:26:28",
          "2024-05-07 08:05:24",
          "2024-05-07 08:47:42",
          "2024-05-07 08:47:44",
          "2024-05-07 08:47:48",
          "2024-05-07 08:47:50",
          "2024-05-08 14:29:03",
          "2024-05-08 14:29:05",
          "2024-05-02 11:45:10",
          "2024-04-30 15:39:43",
          "2024-04-30 15:39:43",
          "2024-04-30 15:39:43",
          "2024-04-30 15:39:43",
          "2024-04-30 15:39:43",
          "2024-04-30 15:39:43",
          "2024-04-30 15:39:43",
          "2024-04-30 15:39:43",
          "2024-04-30 15:39:43",
          "2024-04-30 15:39:43",
          "2024-04-29 22:47:49",
          "2024-04-29 22:51:11",
          "2024-04-28 01:48:19",
          "2024-04-28 20:07:11",
          "2024-04-28 20:07:18",
          "2024-04-28 20:07:22",
          "2024-04-28 20:07:25",
          "2024-04-28 20:07:29",
          "2024-04-28 20:07:33",
          "2024-04-28 20:07:37",
          "2024-04-28 20:07:40",
          "2024-04-29 22:19:03",
          "2024-04-29 00:54:35",
          "2024-04-29 00:58:14",
          "2024-04-29 01:04:08",
          "2024-04-27 17:20:18",
          "2024-04-27 00:45:09",
          "2024-04-25 23:05:40",
          "2024-04-25 23:05:40",
          "2024-04-20 15:42:45",
          "2024-04-20 15:42:45",
          "2024-04-20 15:42:45",
          "2024-04-20 15:42:45",
          "2024-04-20 15:42:45",
          "2024-04-20 15:42:45",
          "2024-04-20 23:54:46",
          "2024-04-20 23:54:54",
          "2024-04-20 23:55:03",
          "2024-04-20 23:55:14",
          "2024-04-21 03:15:11",
          "2024-04-21 14:04:01",
          "2024-04-21 18:05:57",
          "2024-04-21 18:05:57",
          "2024-04-21 18:05:57",
          "2024-04-21 18:05:57",
          "2024-04-21 18:05:57",
          "2024-04-21 18:05:57",
          "2024-04-21 18:05:57",
          "2024-04-21 18:05:57",
          "2024-04-22 08:07:29",
          "2024-04-22 09:43:55",
          "2024-04-22 09:44:01",
          "2024-04-22 09:47:06",
          "2024-04-22 09:47:06",
          "2024-04-22 09:47:06",
          "2024-04-22 09:47:06",
          "2024-04-22 09:58:29",
          "2024-04-22 09:58:29",
          "2024-04-22 09:58:29",
          "2024-04-22 09:58:29",
          "2024-04-22 09:58:29",
          "2024-04-22 09:58:29",
          "2024-04-22 09:58:29",
          "2024-04-22 09:58:29",
          "2024-04-22 09:59:14",
          "2024-04-22 09:59:14",
          "2024-04-22 09:59:14",
          "2024-04-22 09:59:14",
          "2024-04-22 10:01:16",
          "2024-04-22 10:01:16",
          "2024-04-22 10:01:16",
          "2024-04-22 10:01:16",
          "2024-04-22 10:07:22",
          "2024-04-22 10:07:22",
          "2024-04-22 10:07:22",
          "2024-04-22 10:07:22",
          "2024-04-22 10:07:22",
          "2024-04-22 10:07:22",
          "2024-04-21 14:04:01",
          "2024-04-21 17:22:20",
          "2024-04-21 17:22:20",
          "2024-04-21 17:22:20",
          "2024-04-21 17:22:20",
          "2024-04-21 17:22:20",
          "2024-04-21 17:22:20",
          "2024-04-21 17:33:11",
          "2024-04-21 17:33:11",
          "2024-04-21 17:33:11",
          "2024-04-21 17:33:11",
          "2024-04-21 17:33:11",
          "2024-04-21 17:33:11",
          "2024-04-21 17:33:11",
          "2024-04-21 17:33:11",
          "2024-04-21 17:33:11",
          "2024-04-21 17:33:11",
          "2024-04-21 17:33:11",
          "2024-04-21 17:41:52",
          "2024-04-21 17:41:52",
          "2024-04-21 17:41:52",
          "2024-04-21 17:41:52",
          "2024-04-21 17:41:52",
          "2024-04-21 17:41:52",
          "2024-04-21 17:41:52",
          "2024-04-21 17:41:52",
          "2024-04-21 17:41:52",
          "2024-04-21 17:41:52",
          "2024-04-21 17:41:52",
          "2024-04-21 17:41:52",
          "2024-04-21 17:41:52",
          "2024-04-21 17:41:52",
          "2024-04-21 17:41:52",
          "2024-04-21 17:45:49",
          "2024-04-21 17:45:49",
          "2024-04-21 17:45:49",
          "2024-04-21 17:45:49",
          "2024-04-21 17:45:49",
          "2024-04-21 17:45:49",
          "2024-04-21 17:45:49",
          "2024-04-21 17:45:49",
          "2024-04-21 17:45:49",
          "2024-04-21 17:45:49",
          "2024-04-21 17:45:49",
          "2024-04-21 17:45:49",
          "2024-04-21 17:45:49",
          "2024-04-21 17:45:49",
          "2024-04-21 17:45:49",
          "2024-04-21 18:05:57",
          "2024-04-20 16:09:20",
          "2024-04-20 22:07:12",
          "2024-04-20 22:07:25",
          "2024-04-20 23:26:02",
          "2024-04-20 23:26:02",
          "2024-04-21 00:38:09",
          "2024-04-21 00:38:16",
          "2024-04-11 07:54:40",
          "2024-04-11 11:52:49",
          "2024-04-11 11:52:49",
          "2024-04-11 11:52:49",
          "2024-04-11 11:52:49",
          "2024-04-11 11:52:49",
          "2024-04-11 11:52:49",
          "2024-04-11 11:52:49",
          "2024-04-11 11:52:49",
          "2024-04-11 11:52:49",
          "2024-04-11 11:52:49",
          "2024-04-12 12:18:55",
          "2024-04-12 12:19:06",
          "2024-04-12 12:19:20",
          "2024-04-15 13:13:45",
          "2024-04-16 01:44:49",
          "2024-04-16 01:44:49",
          "2024-04-16 01:44:49",
          "2024-04-16 01:44:49",
          "2024-04-16 01:44:49",
          "2024-04-16 01:44:49",
          "2024-04-16 01:44:49",
          "2024-04-16 01:44:49",
          "2024-04-16 01:44:49",
          "2024-04-16 01:44:49",
          "2024-04-16 01:44:49",
          "2024-04-16 06:21:35",
          "2024-04-16 19:41:42",
          "2024-04-16 19:41:59",
          "2024-04-17 00:45:38",
          "2024-04-17 01:03:02",
          "2024-04-17 13:18:34",
          "2024-04-17 22:53:50",
          "2024-04-17 22:53:50",
          "2024-04-17 22:53:50",
          "2024-04-17 22:53:50",
          "2024-04-17 22:53:50",
          "2024-04-17 22:53:50",
          "2024-04-17 22:53:50",
          "2024-04-17 22:53:50",
          "2024-04-17 22:53:50",
          "2024-04-17 23:53:04",
          "2024-04-17 23:53:04",
          "2024-04-18 23:57:03",
          "2024-04-18 23:57:10",
          "2024-04-18 23:57:17",
          "2024-04-18 23:57:32",
          "2024-04-18 23:57:39",
          "2024-04-18 23:57:46",
          "2024-04-17 23:49:38",
          "2024-04-17 23:49:38",
          "2024-04-17 23:53:04",
          "2024-04-17 23:53:04",
          "2024-04-17 23:53:04",
          "2024-04-17 23:53:04",
          "2024-04-17 23:53:04",
          "2024-04-17 23:53:04",
          "2024-04-17 23:53:04",
          "2024-04-17 23:53:04",
          "2024-04-17 23:53:04",
          "2024-04-17 23:53:04",
          "2024-04-17 23:53:04",
          "2024-04-17 23:53:04",
          "2024-04-17 23:53:04",
          "2024-04-17 23:53:04",
          "2024-04-17 23:53:04",
          "2024-04-17 23:53:04",
          "2024-04-19 01:04:30",
          "2024-04-19 01:04:30",
          "2024-04-19 01:04:30",
          "2024-04-19 01:04:30",
          "2024-04-19 01:04:30",
          "2024-04-19 01:04:30",
          "2024-04-19 01:04:30",
          "2024-04-19 01:04:30",
          "2024-04-19 01:04:30",
          "2024-04-19 01:04:30",
          "2024-04-19 01:04:30",
          "2024-04-19 01:04:30",
          "2024-04-19 01:04:30",
          "2024-04-19 01:04:30",
          "2024-04-19 01:04:30",
          "2024-04-19 01:06:50",
          "2024-04-19 01:06:50",
          "2024-04-19 01:06:50",
          "2024-04-19 01:06:50",
          "2024-04-19 01:06:50",
          "2024-04-19 01:06:50",
          "2024-04-19 01:06:50",
          "2024-04-19 01:06:50",
          "2024-04-19 01:06:50",
          "2024-04-19 01:06:50",
          "2024-04-19 01:06:50",
          "2024-04-19 01:06:50",
          "2024-04-19 01:06:50",
          "2024-04-19 01:06:50",
          "2024-04-19 01:06:50",
          "2024-04-20 11:05:24",
          "2024-04-19 00:40:15",
          "2024-04-19 00:40:15",
          "2024-04-19 00:40:15",
          "2024-04-19 00:40:15",
          "2024-04-19 00:40:15",
          "2024-04-19 00:40:15",
          "2024-04-19 00:40:15",
          "2024-04-19 00:40:15",
          "2024-04-19 00:40:15",
          "2024-04-19 00:46:03",
          "2024-04-19 00:46:03",
          "2024-04-19 00:46:03",
          "2024-04-19 00:46:03",
          "2024-04-19 00:46:03",
          "2024-04-19 00:46:03",
          "2024-04-19 00:46:03",
          "2024-04-19 00:46:03",
          "2024-04-19 00:46:03",
          "2024-04-19 00:46:03",
          "2024-04-19 00:46:03",
          "2024-04-19 00:46:03",
          "2024-04-19 00:46:03",
          "2024-04-19 00:46:03",
          "2024-04-19 00:46:03",
          "2024-04-19 00:49:11",
          "2024-04-19 00:49:11",
          "2024-04-19 00:49:11",
          "2024-04-19 00:49:11",
          "2024-04-19 00:49:11",
          "2024-04-19 00:49:11",
          "2024-04-19 00:49:11",
          "2024-04-19 00:49:11",
          "2024-04-19 00:49:11",
          "2024-04-19 00:49:11",
          "2024-04-19 00:49:11",
          "2024-04-19 00:49:11",
          "2024-04-19 00:49:11",
          "2024-04-19 00:49:11",
          "2024-04-19 00:49:11",
          "2024-04-19 00:55:24",
          "2024-04-19 00:55:24",
          "2024-04-19 00:55:24",
          "2024-04-19 00:55:24",
          "2024-04-19 00:55:24",
          "2024-04-19 00:55:24",
          "2024-04-19 00:55:24",
          "2024-04-19 00:55:24",
          "2024-04-19 00:55:24",
          "2024-04-19 00:55:24",
          "2024-04-19 00:19:12",
          "2024-04-19 00:19:12",
          "2024-04-19 00:19:12",
          "2024-04-19 00:19:12",
          "2024-04-19 00:19:12",
          "2024-04-19 00:19:12",
          "2024-04-19 00:19:12",
          "2024-04-19 00:19:12",
          "2024-04-19 00:19:12",
          "2024-04-19 00:20:40",
          "2024-04-19 00:20:40",
          "2024-04-19 00:20:40",
          "2024-04-19 00:20:40",
          "2024-04-19 00:20:40",
          "2024-04-19 00:20:40",
          "2024-04-19 00:20:40",
          "2024-04-19 00:20:40",
          "2024-04-19 00:36:48",
          "2024-04-19 00:36:48",
          "2024-04-19 00:36:48",
          "2024-04-19 00:36:48",
          "2024-04-19 00:36:48",
          "2024-04-19 00:36:48",
          "2024-04-19 00:36:48",
          "2024-04-19 00:36:48",
          "2024-04-19 00:36:48",
          "2024-04-19 00:36:48",
          "2024-04-19 00:36:48",
          "2024-04-19 00:36:48",
          "2024-04-19 00:36:48",
          "2024-04-19 00:36:48",
          "2024-04-19 00:36:48",
          "2024-04-19 00:40:15",
          "2024-04-19 00:40:15",
          "2024-04-19 00:40:15",
          "2024-04-19 00:40:15",
          "2024-04-19 00:40:15",
          "2024-04-19 00:40:15",
          "2024-04-19 02:46:24",
          "2024-04-19 07:26:34",
          "2024-04-19 07:26:36",
          "2024-04-19 07:26:38",
          "2024-04-19 07:26:42",
          "2024-04-19 21:10:31",
          "2024-04-19 21:10:33",
          "2024-04-19 21:10:40",
          "2024-04-19 21:10:42",
          "2024-04-20 06:48:25",
          "2024-04-20 06:48:25",
          "2024-04-20 02:07:36",
          "2024-04-20 02:12:05",
          "2024-04-20 02:18:06",
          "2024-04-19 00:32:58",
          "2024-04-19 00:43:50",
          "2024-04-19 01:00:32",
          "2024-04-19 01:08:44",
          "2024-04-17 23:49:38",
          "2024-04-18 22:20:29",
          "2024-04-17 23:49:38",
          "2024-04-17 23:49:38",
          "2024-04-17 23:49:38",
          "2024-04-17 23:49:38",
          "2024-04-17 23:45:11",
          "2024-04-18 07:20:24",
          "2024-04-18 07:20:21",
          "2024-04-18 07:20:15",
          "2024-04-18 07:20:12",
          "2024-04-18 07:20:08",
          "2024-04-18 07:20:06",
          "2024-04-18 07:19:45",
          "2024-04-18 07:19:38",
          "2024-04-18 07:19:32",
          "2024-04-18 07:19:31",
          "2024-04-17 23:49:38",
          "2024-04-17 23:49:38",
          "2024-04-17 23:49:38",
          "2024-04-17 23:49:38",
          "2024-04-17 23:49:38",
          "2024-04-17 22:50:31",
          "2024-04-17 23:14:47",
          "2024-04-17 23:29:42",
          "2024-04-17 23:44:47",
          "2024-04-18 00:02:10",
          "2024-04-18 07:48:00",
          "2024-04-17 10:09:33",
          "2024-04-17 10:22:42"
         ],
         "xaxis": "x",
         "y": [
          4800000,
          4704480,
          4988800,
          4988800,
          4988800,
          4988800,
          4988800,
          4988800,
          4988800,
          4950000,
          4950000,
          4948800,
          59900000,
          59900000,
          54900000,
          49900000,
          5000000,
          5000000,
          5000000,
          5000000,
          5000000,
          5000000,
          5000000,
          4303728,
          4303728,
          4303728,
          4303728,
          4303728,
          4303728,
          4303728,
          4303728,
          4290000,
          4288800,
          4288800,
          3500000,
          3500000,
          3500000,
          3500000,
          3500000,
          3488000,
          3488000,
          3488000,
          3488000,
          3500000,
          3500000,
          3500000,
          3500000,
          3400000,
          3400000,
          3400000,
          3399980,
          3390000,
          3500000,
          3500000,
          3500000,
          3322528,
          3256410,
          3256400,
          3256400,
          3256400,
          3256400,
          3256400,
          3256400,
          30653756,
          49130000,
          3322528,
          3322528,
          3322528,
          3322528,
          3322528,
          3256410,
          3389990,
          3322529,
          3322529,
          3322529,
          3322529,
          3322529,
          3389990,
          3389990,
          3389990,
          3389990,
          3389980,
          3389970,
          3300000,
          3234330,
          3234330,
          3234330,
          3300000,
          3234330,
          3234330,
          3234330,
          3234330,
          3234330,
          3234330,
          3234330,
          3234330,
          3234330,
          3234330,
          3234330,
          3234330,
          3234330,
          3234330,
          3300000,
          3300000,
          3300000,
          3300000,
          3300000,
          3300000,
          3300000,
          3300000,
          3300000,
          3300000,
          3300000,
          3300000,
          3300000,
          3300000,
          3300000,
          3300000,
          3290000,
          3290000,
          3290000,
          3290000,
          3290000,
          3290000,
          3290000,
          3280000,
          3280000,
          3280000,
          3280000,
          3280000,
          3280000,
          3280000,
          3390000,
          3400000,
          3400000,
          3400000,
          3400000,
          3400000,
          3400000,
          3400000,
          3400000,
          3400000,
          3400000,
          75000000,
          120000000,
          3500000,
          3500000,
          3500000,
          3500000,
          3500000,
          3500000,
          3500000,
          3500000,
          3500000,
          3000000,
          69900000,
          94900000,
          72900000,
          3800000,
          3800000,
          4260000,
          4260000,
          4300000,
          4300000,
          4300000,
          4300000,
          4300000,
          4300000,
          4180000,
          4180000,
          4180000,
          4180000,
          3500000,
          3500000,
          3490000,
          3490000,
          3490000,
          3490000,
          3490000,
          3490000,
          3490000,
          3490000,
          3490000,
          3490000,
          3490000,
          3490000,
          3490000,
          3490000,
          3490000,
          3490000,
          3490000,
          3490000,
          3490000,
          3490000,
          3490000,
          3490000,
          3490000,
          3490000,
          3490000,
          3490000,
          3490000,
          3490000,
          3490000,
          3490000,
          3490000,
          3490000,
          3490000,
          3490000,
          3490000,
          3490000,
          3490000,
          3490000,
          3490000,
          3490000,
          3490000,
          3490000,
          3490000,
          3490000,
          3490000,
          3490000,
          3490000,
          3490000,
          3490000,
          3490000,
          3490000,
          3490000,
          3490000,
          3490000,
          3490000,
          3490000,
          3490000,
          3490000,
          3490000,
          3490000,
          3490000,
          3490000,
          3490000,
          3490000,
          3490000,
          3490000,
          3490000,
          3490000,
          3490000,
          3490000,
          3490000,
          3490000,
          3490000,
          3490000,
          3490000,
          3490000,
          3490000,
          3490000,
          3490000,
          3490000,
          3490000,
          3490000,
          3490000,
          3490000,
          3490000,
          3490000,
          189000000,
          3000000,
          3000000,
          3000000,
          2990000,
          2990000,
          2990000,
          4200000,
          4200000,
          4200000,
          4200000,
          4200000,
          4200000,
          4200000,
          4200000,
          4200000,
          4200000,
          4200000,
          4188000,
          4188000,
          4188000,
          4170000,
          4000000,
          4000000,
          4000000,
          4000000,
          4000000,
          4000000,
          4000000,
          4000000,
          4000000,
          4000000,
          4000000,
          3988000,
          3978000,
          3978000,
          3889000,
          3500000,
          3499000,
          3490000,
          3490000,
          3490000,
          3490000,
          3490000,
          3490000,
          3490000,
          3490000,
          3490000,
          3421000,
          3421000,
          3421000,
          3421000,
          3421000,
          3421000,
          3421000,
          3421000,
          3421000,
          3421000,
          3421000,
          3421000,
          3421000,
          3421000,
          3421000,
          3421000,
          3421000,
          3421000,
          3421000,
          3421000,
          3421000,
          3421000,
          3421000,
          3421000,
          3421000,
          3421000,
          3420000,
          3420000,
          3420000,
          3420000,
          3420000,
          3420000,
          3420000,
          3420000,
          3420000,
          3420000,
          3420000,
          3420000,
          3420000,
          3420000,
          3420000,
          3420000,
          3420000,
          3420000,
          3420000,
          3420000,
          3420000,
          3420000,
          3420000,
          3420000,
          3420000,
          3420000,
          3420000,
          3420000,
          3420000,
          3420000,
          3420000,
          3420000,
          3420000,
          3420000,
          3420000,
          3420000,
          3420000,
          3420000,
          3420000,
          3420000,
          3420000,
          3420000,
          3420000,
          3420000,
          3420000,
          3420000,
          3420000,
          3420000,
          3420000,
          3420000,
          3420000,
          3420000,
          3420000,
          3420000,
          3420000,
          3420000,
          3420000,
          3420000,
          3420000,
          3420000,
          3420000,
          3420000,
          3420000,
          3420000,
          3420000,
          3420000,
          3420000,
          3420000,
          3420000,
          3420000,
          3420000,
          3420000,
          3420000,
          3420000,
          3420000,
          3420000,
          3420000,
          3420000,
          3420000,
          3420000,
          3420000,
          3420000,
          3420000,
          3420000,
          3420000,
          3420000,
          3420000,
          3420000,
          3420000,
          3420000,
          3420000,
          3420000,
          3420000,
          3420000,
          3420000,
          3420000,
          3420000,
          3420000,
          3420000,
          3420000,
          3420000,
          3420000,
          3420000,
          3420000,
          3420000,
          3420000,
          3420000,
          3420000,
          3420000,
          3420000,
          3420000,
          3420000,
          3420000,
          3420000,
          3420000,
          3420000,
          3420000,
          3420000,
          3000000,
          3000000,
          3000000,
          3000000,
          3000000,
          3000000,
          3000000,
          3000000,
          3000000,
          3000000,
          2950300,
          159000000,
          159000000,
          159000000,
          159000000,
          159000000,
          159000000,
          159000000,
          3421000,
          3420000,
          3421000,
          3421000,
          3421000,
          3421000,
          3420549,
          3420000,
          3420000,
          3420000,
          3420000,
          3420000,
          3420000,
          3420000,
          3420000,
          3420000,
          3420000,
          3420000,
          3420000,
          3420000,
          3420000,
          3420000,
          159000000,
          159000000,
          159000000,
          159000000,
          159000000,
          20000000000,
          159000000,
          159000000
         ],
         "yaxis": "y"
        }
       ],
       "layout": {
        "legend": {
         "tracegroupgap": 0
        },
        "template": {
         "data": {
          "bar": [
           {
            "error_x": {
             "color": "#2a3f5f"
            },
            "error_y": {
             "color": "#2a3f5f"
            },
            "marker": {
             "line": {
              "color": "#E5ECF6",
              "width": 0.5
             },
             "pattern": {
              "fillmode": "overlay",
              "size": 10,
              "solidity": 0.2
             }
            },
            "type": "bar"
           }
          ],
          "barpolar": [
           {
            "marker": {
             "line": {
              "color": "#E5ECF6",
              "width": 0.5
             },
             "pattern": {
              "fillmode": "overlay",
              "size": 10,
              "solidity": 0.2
             }
            },
            "type": "barpolar"
           }
          ],
          "carpet": [
           {
            "aaxis": {
             "endlinecolor": "#2a3f5f",
             "gridcolor": "white",
             "linecolor": "white",
             "minorgridcolor": "white",
             "startlinecolor": "#2a3f5f"
            },
            "baxis": {
             "endlinecolor": "#2a3f5f",
             "gridcolor": "white",
             "linecolor": "white",
             "minorgridcolor": "white",
             "startlinecolor": "#2a3f5f"
            },
            "type": "carpet"
           }
          ],
          "choropleth": [
           {
            "colorbar": {
             "outlinewidth": 0,
             "ticks": ""
            },
            "type": "choropleth"
           }
          ],
          "contour": [
           {
            "colorbar": {
             "outlinewidth": 0,
             "ticks": ""
            },
            "colorscale": [
             [
              0,
              "#0d0887"
             ],
             [
              0.1111111111111111,
              "#46039f"
             ],
             [
              0.2222222222222222,
              "#7201a8"
             ],
             [
              0.3333333333333333,
              "#9c179e"
             ],
             [
              0.4444444444444444,
              "#bd3786"
             ],
             [
              0.5555555555555556,
              "#d8576b"
             ],
             [
              0.6666666666666666,
              "#ed7953"
             ],
             [
              0.7777777777777778,
              "#fb9f3a"
             ],
             [
              0.8888888888888888,
              "#fdca26"
             ],
             [
              1,
              "#f0f921"
             ]
            ],
            "type": "contour"
           }
          ],
          "contourcarpet": [
           {
            "colorbar": {
             "outlinewidth": 0,
             "ticks": ""
            },
            "type": "contourcarpet"
           }
          ],
          "heatmap": [
           {
            "colorbar": {
             "outlinewidth": 0,
             "ticks": ""
            },
            "colorscale": [
             [
              0,
              "#0d0887"
             ],
             [
              0.1111111111111111,
              "#46039f"
             ],
             [
              0.2222222222222222,
              "#7201a8"
             ],
             [
              0.3333333333333333,
              "#9c179e"
             ],
             [
              0.4444444444444444,
              "#bd3786"
             ],
             [
              0.5555555555555556,
              "#d8576b"
             ],
             [
              0.6666666666666666,
              "#ed7953"
             ],
             [
              0.7777777777777778,
              "#fb9f3a"
             ],
             [
              0.8888888888888888,
              "#fdca26"
             ],
             [
              1,
              "#f0f921"
             ]
            ],
            "type": "heatmap"
           }
          ],
          "heatmapgl": [
           {
            "colorbar": {
             "outlinewidth": 0,
             "ticks": ""
            },
            "colorscale": [
             [
              0,
              "#0d0887"
             ],
             [
              0.1111111111111111,
              "#46039f"
             ],
             [
              0.2222222222222222,
              "#7201a8"
             ],
             [
              0.3333333333333333,
              "#9c179e"
             ],
             [
              0.4444444444444444,
              "#bd3786"
             ],
             [
              0.5555555555555556,
              "#d8576b"
             ],
             [
              0.6666666666666666,
              "#ed7953"
             ],
             [
              0.7777777777777778,
              "#fb9f3a"
             ],
             [
              0.8888888888888888,
              "#fdca26"
             ],
             [
              1,
              "#f0f921"
             ]
            ],
            "type": "heatmapgl"
           }
          ],
          "histogram": [
           {
            "marker": {
             "pattern": {
              "fillmode": "overlay",
              "size": 10,
              "solidity": 0.2
             }
            },
            "type": "histogram"
           }
          ],
          "histogram2d": [
           {
            "colorbar": {
             "outlinewidth": 0,
             "ticks": ""
            },
            "colorscale": [
             [
              0,
              "#0d0887"
             ],
             [
              0.1111111111111111,
              "#46039f"
             ],
             [
              0.2222222222222222,
              "#7201a8"
             ],
             [
              0.3333333333333333,
              "#9c179e"
             ],
             [
              0.4444444444444444,
              "#bd3786"
             ],
             [
              0.5555555555555556,
              "#d8576b"
             ],
             [
              0.6666666666666666,
              "#ed7953"
             ],
             [
              0.7777777777777778,
              "#fb9f3a"
             ],
             [
              0.8888888888888888,
              "#fdca26"
             ],
             [
              1,
              "#f0f921"
             ]
            ],
            "type": "histogram2d"
           }
          ],
          "histogram2dcontour": [
           {
            "colorbar": {
             "outlinewidth": 0,
             "ticks": ""
            },
            "colorscale": [
             [
              0,
              "#0d0887"
             ],
             [
              0.1111111111111111,
              "#46039f"
             ],
             [
              0.2222222222222222,
              "#7201a8"
             ],
             [
              0.3333333333333333,
              "#9c179e"
             ],
             [
              0.4444444444444444,
              "#bd3786"
             ],
             [
              0.5555555555555556,
              "#d8576b"
             ],
             [
              0.6666666666666666,
              "#ed7953"
             ],
             [
              0.7777777777777778,
              "#fb9f3a"
             ],
             [
              0.8888888888888888,
              "#fdca26"
             ],
             [
              1,
              "#f0f921"
             ]
            ],
            "type": "histogram2dcontour"
           }
          ],
          "mesh3d": [
           {
            "colorbar": {
             "outlinewidth": 0,
             "ticks": ""
            },
            "type": "mesh3d"
           }
          ],
          "parcoords": [
           {
            "line": {
             "colorbar": {
              "outlinewidth": 0,
              "ticks": ""
             }
            },
            "type": "parcoords"
           }
          ],
          "pie": [
           {
            "automargin": true,
            "type": "pie"
           }
          ],
          "scatter": [
           {
            "fillpattern": {
             "fillmode": "overlay",
             "size": 10,
             "solidity": 0.2
            },
            "type": "scatter"
           }
          ],
          "scatter3d": [
           {
            "line": {
             "colorbar": {
              "outlinewidth": 0,
              "ticks": ""
             }
            },
            "marker": {
             "colorbar": {
              "outlinewidth": 0,
              "ticks": ""
             }
            },
            "type": "scatter3d"
           }
          ],
          "scattercarpet": [
           {
            "marker": {
             "colorbar": {
              "outlinewidth": 0,
              "ticks": ""
             }
            },
            "type": "scattercarpet"
           }
          ],
          "scattergeo": [
           {
            "marker": {
             "colorbar": {
              "outlinewidth": 0,
              "ticks": ""
             }
            },
            "type": "scattergeo"
           }
          ],
          "scattergl": [
           {
            "marker": {
             "colorbar": {
              "outlinewidth": 0,
              "ticks": ""
             }
            },
            "type": "scattergl"
           }
          ],
          "scattermapbox": [
           {
            "marker": {
             "colorbar": {
              "outlinewidth": 0,
              "ticks": ""
             }
            },
            "type": "scattermapbox"
           }
          ],
          "scatterpolar": [
           {
            "marker": {
             "colorbar": {
              "outlinewidth": 0,
              "ticks": ""
             }
            },
            "type": "scatterpolar"
           }
          ],
          "scatterpolargl": [
           {
            "marker": {
             "colorbar": {
              "outlinewidth": 0,
              "ticks": ""
             }
            },
            "type": "scatterpolargl"
           }
          ],
          "scatterternary": [
           {
            "marker": {
             "colorbar": {
              "outlinewidth": 0,
              "ticks": ""
             }
            },
            "type": "scatterternary"
           }
          ],
          "surface": [
           {
            "colorbar": {
             "outlinewidth": 0,
             "ticks": ""
            },
            "colorscale": [
             [
              0,
              "#0d0887"
             ],
             [
              0.1111111111111111,
              "#46039f"
             ],
             [
              0.2222222222222222,
              "#7201a8"
             ],
             [
              0.3333333333333333,
              "#9c179e"
             ],
             [
              0.4444444444444444,
              "#bd3786"
             ],
             [
              0.5555555555555556,
              "#d8576b"
             ],
             [
              0.6666666666666666,
              "#ed7953"
             ],
             [
              0.7777777777777778,
              "#fb9f3a"
             ],
             [
              0.8888888888888888,
              "#fdca26"
             ],
             [
              1,
              "#f0f921"
             ]
            ],
            "type": "surface"
           }
          ],
          "table": [
           {
            "cells": {
             "fill": {
              "color": "#EBF0F8"
             },
             "line": {
              "color": "white"
             }
            },
            "header": {
             "fill": {
              "color": "#C8D4E3"
             },
             "line": {
              "color": "white"
             }
            },
            "type": "table"
           }
          ]
         },
         "layout": {
          "annotationdefaults": {
           "arrowcolor": "#2a3f5f",
           "arrowhead": 0,
           "arrowwidth": 1
          },
          "autotypenumbers": "strict",
          "coloraxis": {
           "colorbar": {
            "outlinewidth": 0,
            "ticks": ""
           }
          },
          "colorscale": {
           "diverging": [
            [
             0,
             "#8e0152"
            ],
            [
             0.1,
             "#c51b7d"
            ],
            [
             0.2,
             "#de77ae"
            ],
            [
             0.3,
             "#f1b6da"
            ],
            [
             0.4,
             "#fde0ef"
            ],
            [
             0.5,
             "#f7f7f7"
            ],
            [
             0.6,
             "#e6f5d0"
            ],
            [
             0.7,
             "#b8e186"
            ],
            [
             0.8,
             "#7fbc41"
            ],
            [
             0.9,
             "#4d9221"
            ],
            [
             1,
             "#276419"
            ]
           ],
           "sequential": [
            [
             0,
             "#0d0887"
            ],
            [
             0.1111111111111111,
             "#46039f"
            ],
            [
             0.2222222222222222,
             "#7201a8"
            ],
            [
             0.3333333333333333,
             "#9c179e"
            ],
            [
             0.4444444444444444,
             "#bd3786"
            ],
            [
             0.5555555555555556,
             "#d8576b"
            ],
            [
             0.6666666666666666,
             "#ed7953"
            ],
            [
             0.7777777777777778,
             "#fb9f3a"
            ],
            [
             0.8888888888888888,
             "#fdca26"
            ],
            [
             1,
             "#f0f921"
            ]
           ],
           "sequentialminus": [
            [
             0,
             "#0d0887"
            ],
            [
             0.1111111111111111,
             "#46039f"
            ],
            [
             0.2222222222222222,
             "#7201a8"
            ],
            [
             0.3333333333333333,
             "#9c179e"
            ],
            [
             0.4444444444444444,
             "#bd3786"
            ],
            [
             0.5555555555555556,
             "#d8576b"
            ],
            [
             0.6666666666666666,
             "#ed7953"
            ],
            [
             0.7777777777777778,
             "#fb9f3a"
            ],
            [
             0.8888888888888888,
             "#fdca26"
            ],
            [
             1,
             "#f0f921"
            ]
           ]
          },
          "colorway": [
           "#636efa",
           "#EF553B",
           "#00cc96",
           "#ab63fa",
           "#FFA15A",
           "#19d3f3",
           "#FF6692",
           "#B6E880",
           "#FF97FF",
           "#FECB52"
          ],
          "font": {
           "color": "#2a3f5f"
          },
          "geo": {
           "bgcolor": "white",
           "lakecolor": "white",
           "landcolor": "#E5ECF6",
           "showlakes": true,
           "showland": true,
           "subunitcolor": "white"
          },
          "hoverlabel": {
           "align": "left"
          },
          "hovermode": "closest",
          "mapbox": {
           "style": "light"
          },
          "paper_bgcolor": "white",
          "plot_bgcolor": "#E5ECF6",
          "polar": {
           "angularaxis": {
            "gridcolor": "white",
            "linecolor": "white",
            "ticks": ""
           },
           "bgcolor": "#E5ECF6",
           "radialaxis": {
            "gridcolor": "white",
            "linecolor": "white",
            "ticks": ""
           }
          },
          "scene": {
           "xaxis": {
            "backgroundcolor": "#E5ECF6",
            "gridcolor": "white",
            "gridwidth": 2,
            "linecolor": "white",
            "showbackground": true,
            "ticks": "",
            "zerolinecolor": "white"
           },
           "yaxis": {
            "backgroundcolor": "#E5ECF6",
            "gridcolor": "white",
            "gridwidth": 2,
            "linecolor": "white",
            "showbackground": true,
            "ticks": "",
            "zerolinecolor": "white"
           },
           "zaxis": {
            "backgroundcolor": "#E5ECF6",
            "gridcolor": "white",
            "gridwidth": 2,
            "linecolor": "white",
            "showbackground": true,
            "ticks": "",
            "zerolinecolor": "white"
           }
          },
          "shapedefaults": {
           "line": {
            "color": "#2a3f5f"
           }
          },
          "ternary": {
           "aaxis": {
            "gridcolor": "white",
            "linecolor": "white",
            "ticks": ""
           },
           "baxis": {
            "gridcolor": "white",
            "linecolor": "white",
            "ticks": ""
           },
           "bgcolor": "#E5ECF6",
           "caxis": {
            "gridcolor": "white",
            "linecolor": "white",
            "ticks": ""
           }
          },
          "title": {
           "x": 0.05
          },
          "xaxis": {
           "automargin": true,
           "gridcolor": "white",
           "linecolor": "white",
           "ticks": "",
           "title": {
            "standoff": 15
           },
           "zerolinecolor": "white",
           "zerolinewidth": 2
          },
          "yaxis": {
           "automargin": true,
           "gridcolor": "white",
           "linecolor": "white",
           "ticks": "",
           "title": {
            "standoff": 15
           },
           "zerolinecolor": "white",
           "zerolinewidth": 2
          }
         }
        },
        "title": {
         "text": "WAX Blockchain Transactions"
        },
        "xaxis": {
         "anchor": "y",
         "domain": [
          0,
          1
         ],
         "title": {
          "text": "created_at_time"
         }
        },
        "yaxis": {
         "anchor": "x",
         "domain": [
          0,
          1
         ],
         "title": {
          "text": "price.amount"
         }
        }
       }
      }
     },
     "metadata": {},
     "output_type": "display_data"
    }
   ],
   "source": [
    "import nbformat\n",
    "import plotly.express as px\n",
    "import pandas as pd\n",
    "\n",
    "df = pd.read_csv('concated_2_farmersworld_data.csv')\n",
    "\n",
    "fig = px.scatter(df, x='created_at_time', y='price.amount',\n",
    "                 hover_data=['buyer', 'seller', 'updated_at_time'],\n",
    "                 title='WAX Blockchain Transactions')\n",
    "\n",
    "fig.show()"
   ]
  }
 ],
 "metadata": {
  "kernelspec": {
   "display_name": "Python 3",
   "language": "python",
   "name": "python3"
  },
  "language_info": {
   "codemirror_mode": {
    "name": "ipython",
    "version": 3
   },
   "file_extension": ".py",
   "mimetype": "text/x-python",
   "name": "python",
   "nbconvert_exporter": "python",
   "pygments_lexer": "ipython3",
   "version": "3.12.3"
  }
 },
 "nbformat": 4,
 "nbformat_minor": 2
}
